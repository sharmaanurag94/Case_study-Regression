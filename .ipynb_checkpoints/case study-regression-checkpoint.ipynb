{
 "cells": [
  {
   "cell_type": "markdown",
   "metadata": {},
   "source": [
    "<h2><u>Machine Learning</u></h2>\n",
    "\n",
    "# Supervised Learning : Regression\n",
    "\n",
    "<h2>Case Study - Real Estate</h2>\n",
    "\n",
    "In this case study, you will be shown how to clean the data before building the Linear Regression model by validating its assumptions and also regularizing it with some regularization techniques from Python."
   ]
  },
  {
   "cell_type": "markdown",
   "metadata": {},
   "source": [
    "<div style=\"background-color:##EDF9FF\">\n",
    " <ul><li><h3>Import the required library</h3></li></ul>\n",
    "</div>"
   ]
  },
  {
   "cell_type": "code",
   "execution_count": 9,
   "metadata": {},
   "outputs": [],
   "source": [
    "import numpy as np\n",
    "import pandas as pd\n",
    "import matplotlib.pyplot as plt\n",
    "import seaborn as sns\n",
    "%matplotlib inline"
   ]
  },
  {
   "cell_type": "markdown",
   "metadata": {},
   "source": [
    "<div style=\"background-color:##EDF9FF\">\n",
    " <ul><li><h3>Read the dataset from csv file</h3></li></ul>\n",
    "</div>"
   ]
  },
  {
   "cell_type": "code",
   "execution_count": 10,
   "metadata": {},
   "outputs": [],
   "source": [
    "df = pd.read_csv(\"Regression-Analysis-Data.csv\")"
   ]
  },
  {
   "cell_type": "code",
   "execution_count": 11,
   "metadata": {},
   "outputs": [
    {
     "data": {
      "text/html": [
       "<div>\n",
       "<style scoped>\n",
       "    .dataframe tbody tr th:only-of-type {\n",
       "        vertical-align: middle;\n",
       "    }\n",
       "\n",
       "    .dataframe tbody tr th {\n",
       "        vertical-align: top;\n",
       "    }\n",
       "\n",
       "    .dataframe thead th {\n",
       "        text-align: right;\n",
       "    }\n",
       "</style>\n",
       "<table border=\"1\" class=\"dataframe\">\n",
       "  <thead>\n",
       "    <tr style=\"text-align: right;\">\n",
       "      <th></th>\n",
       "      <th>Observation</th>\n",
       "      <th>Dist_Taxi</th>\n",
       "      <th>Dist_Market</th>\n",
       "      <th>Dist_Hospital</th>\n",
       "      <th>Carpet</th>\n",
       "      <th>Builtup</th>\n",
       "      <th>Parking</th>\n",
       "      <th>City_Category</th>\n",
       "      <th>Rainfall</th>\n",
       "      <th>House_Price</th>\n",
       "    </tr>\n",
       "  </thead>\n",
       "  <tbody>\n",
       "    <tr>\n",
       "      <th>0</th>\n",
       "      <td>1</td>\n",
       "      <td>9796.0</td>\n",
       "      <td>5250.0</td>\n",
       "      <td>10703.0</td>\n",
       "      <td>1659.0</td>\n",
       "      <td>1961.0</td>\n",
       "      <td>Open</td>\n",
       "      <td>CAT B</td>\n",
       "      <td>530</td>\n",
       "      <td>6649000</td>\n",
       "    </tr>\n",
       "    <tr>\n",
       "      <th>1</th>\n",
       "      <td>2</td>\n",
       "      <td>8294.0</td>\n",
       "      <td>8186.0</td>\n",
       "      <td>12694.0</td>\n",
       "      <td>1461.0</td>\n",
       "      <td>1752.0</td>\n",
       "      <td>Not Provided</td>\n",
       "      <td>CAT B</td>\n",
       "      <td>210</td>\n",
       "      <td>3982000</td>\n",
       "    </tr>\n",
       "    <tr>\n",
       "      <th>2</th>\n",
       "      <td>3</td>\n",
       "      <td>11001.0</td>\n",
       "      <td>14399.0</td>\n",
       "      <td>16991.0</td>\n",
       "      <td>1340.0</td>\n",
       "      <td>1609.0</td>\n",
       "      <td>Not Provided</td>\n",
       "      <td>CAT A</td>\n",
       "      <td>720</td>\n",
       "      <td>5401000</td>\n",
       "    </tr>\n",
       "    <tr>\n",
       "      <th>3</th>\n",
       "      <td>4</td>\n",
       "      <td>8301.0</td>\n",
       "      <td>11188.0</td>\n",
       "      <td>12289.0</td>\n",
       "      <td>1451.0</td>\n",
       "      <td>1748.0</td>\n",
       "      <td>Covered</td>\n",
       "      <td>CAT B</td>\n",
       "      <td>620</td>\n",
       "      <td>5373000</td>\n",
       "    </tr>\n",
       "    <tr>\n",
       "      <th>4</th>\n",
       "      <td>5</td>\n",
       "      <td>10510.0</td>\n",
       "      <td>12629.0</td>\n",
       "      <td>13921.0</td>\n",
       "      <td>1770.0</td>\n",
       "      <td>2111.0</td>\n",
       "      <td>Not Provided</td>\n",
       "      <td>CAT B</td>\n",
       "      <td>450</td>\n",
       "      <td>4662000</td>\n",
       "    </tr>\n",
       "  </tbody>\n",
       "</table>\n",
       "</div>"
      ],
      "text/plain": [
       "   Observation  Dist_Taxi  Dist_Market  Dist_Hospital  Carpet  Builtup  \\\n",
       "0            1     9796.0       5250.0        10703.0  1659.0   1961.0   \n",
       "1            2     8294.0       8186.0        12694.0  1461.0   1752.0   \n",
       "2            3    11001.0      14399.0        16991.0  1340.0   1609.0   \n",
       "3            4     8301.0      11188.0        12289.0  1451.0   1748.0   \n",
       "4            5    10510.0      12629.0        13921.0  1770.0   2111.0   \n",
       "\n",
       "        Parking City_Category  Rainfall  House_Price  \n",
       "0          Open         CAT B       530      6649000  \n",
       "1  Not Provided         CAT B       210      3982000  \n",
       "2  Not Provided         CAT A       720      5401000  \n",
       "3       Covered         CAT B       620      5373000  \n",
       "4  Not Provided         CAT B       450      4662000  "
      ]
     },
     "execution_count": 11,
     "metadata": {},
     "output_type": "execute_result"
    }
   ],
   "source": [
    "df.head()  ## Looking for top 5 rows"
   ]
  },
  {
   "cell_type": "code",
   "execution_count": 12,
   "metadata": {},
   "outputs": [
    {
     "data": {
      "text/html": [
       "<div>\n",
       "<style scoped>\n",
       "    .dataframe tbody tr th:only-of-type {\n",
       "        vertical-align: middle;\n",
       "    }\n",
       "\n",
       "    .dataframe tbody tr th {\n",
       "        vertical-align: top;\n",
       "    }\n",
       "\n",
       "    .dataframe thead th {\n",
       "        text-align: right;\n",
       "    }\n",
       "</style>\n",
       "<table border=\"1\" class=\"dataframe\">\n",
       "  <thead>\n",
       "    <tr style=\"text-align: right;\">\n",
       "      <th></th>\n",
       "      <th>Observation</th>\n",
       "      <th>Dist_Taxi</th>\n",
       "      <th>Dist_Market</th>\n",
       "      <th>Dist_Hospital</th>\n",
       "      <th>Carpet</th>\n",
       "      <th>Builtup</th>\n",
       "      <th>Parking</th>\n",
       "      <th>City_Category</th>\n",
       "      <th>Rainfall</th>\n",
       "      <th>House_Price</th>\n",
       "    </tr>\n",
       "  </thead>\n",
       "  <tbody>\n",
       "    <tr>\n",
       "      <th>927</th>\n",
       "      <td>928</td>\n",
       "      <td>12176.0</td>\n",
       "      <td>8518.0</td>\n",
       "      <td>15673.0</td>\n",
       "      <td>1582.0</td>\n",
       "      <td>1910.0</td>\n",
       "      <td>Covered</td>\n",
       "      <td>CAT C</td>\n",
       "      <td>1080</td>\n",
       "      <td>6639000</td>\n",
       "    </tr>\n",
       "    <tr>\n",
       "      <th>928</th>\n",
       "      <td>929</td>\n",
       "      <td>7214.0</td>\n",
       "      <td>8717.0</td>\n",
       "      <td>10553.0</td>\n",
       "      <td>1387.0</td>\n",
       "      <td>1663.0</td>\n",
       "      <td>Open</td>\n",
       "      <td>CAT A</td>\n",
       "      <td>850</td>\n",
       "      <td>8208000</td>\n",
       "    </tr>\n",
       "    <tr>\n",
       "      <th>929</th>\n",
       "      <td>930</td>\n",
       "      <td>7423.0</td>\n",
       "      <td>11708.0</td>\n",
       "      <td>13220.0</td>\n",
       "      <td>1200.0</td>\n",
       "      <td>1436.0</td>\n",
       "      <td>Open</td>\n",
       "      <td>CAT A</td>\n",
       "      <td>1060</td>\n",
       "      <td>7644000</td>\n",
       "    </tr>\n",
       "    <tr>\n",
       "      <th>930</th>\n",
       "      <td>931</td>\n",
       "      <td>15082.0</td>\n",
       "      <td>14700.0</td>\n",
       "      <td>19617.0</td>\n",
       "      <td>1299.0</td>\n",
       "      <td>1560.0</td>\n",
       "      <td>Open</td>\n",
       "      <td>CAT B</td>\n",
       "      <td>770</td>\n",
       "      <td>9661000</td>\n",
       "    </tr>\n",
       "    <tr>\n",
       "      <th>931</th>\n",
       "      <td>932</td>\n",
       "      <td>9297.0</td>\n",
       "      <td>12537.0</td>\n",
       "      <td>14418.0</td>\n",
       "      <td>1174.0</td>\n",
       "      <td>1429.0</td>\n",
       "      <td>Covered</td>\n",
       "      <td>CAT C</td>\n",
       "      <td>1110</td>\n",
       "      <td>5434000</td>\n",
       "    </tr>\n",
       "  </tbody>\n",
       "</table>\n",
       "</div>"
      ],
      "text/plain": [
       "     Observation  Dist_Taxi  Dist_Market  Dist_Hospital  Carpet  Builtup  \\\n",
       "927          928    12176.0       8518.0        15673.0  1582.0   1910.0   \n",
       "928          929     7214.0       8717.0        10553.0  1387.0   1663.0   \n",
       "929          930     7423.0      11708.0        13220.0  1200.0   1436.0   \n",
       "930          931    15082.0      14700.0        19617.0  1299.0   1560.0   \n",
       "931          932     9297.0      12537.0        14418.0  1174.0   1429.0   \n",
       "\n",
       "     Parking City_Category  Rainfall  House_Price  \n",
       "927  Covered         CAT C      1080      6639000  \n",
       "928     Open         CAT A       850      8208000  \n",
       "929     Open         CAT A      1060      7644000  \n",
       "930     Open         CAT B       770      9661000  \n",
       "931  Covered         CAT C      1110      5434000  "
      ]
     },
     "execution_count": 12,
     "metadata": {},
     "output_type": "execute_result"
    }
   ],
   "source": [
    "df.tail() ### helps us to view bottom 5 rows"
   ]
  },
  {
   "cell_type": "code",
   "execution_count": 13,
   "metadata": {},
   "outputs": [
    {
     "data": {
      "text/plain": [
       "(932, 10)"
      ]
     },
     "execution_count": 13,
     "metadata": {},
     "output_type": "execute_result"
    }
   ],
   "source": [
    "df.shape ## we can exmanine the dimension of the data"
   ]
  },
  {
   "cell_type": "markdown",
   "metadata": {},
   "source": [
    "# Since we dont need observation as this is a nominal data, hence we should drop the observation from further analysis"
   ]
  },
  {
   "cell_type": "code",
   "execution_count": 14,
   "metadata": {},
   "outputs": [],
   "source": [
    "df = df.drop('Observation', axis=1) "
   ]
  },
  {
   "cell_type": "markdown",
   "metadata": {},
   "source": [
    "<div style=\"background-color:##FBFFE3\">\n",
    "   <div style=\"float:left\">\n",
    "       <img src='https://drive.google.com/uc?export=download&id=1No0HgbMyg7V7pVTF0A7LEIcruGkeH-BX', width=20,height=20,>\n",
    "   </div>\n",
    "   <span style=\"padding:20px;\">Doing basic analysis on data - 7 point statistics and identiy if any null values present in the data or not</span>\n",
    "</div>"
   ]
  },
  {
   "cell_type": "code",
   "execution_count": 15,
   "metadata": {},
   "outputs": [
    {
     "data": {
      "text/html": [
       "<div>\n",
       "<style scoped>\n",
       "    .dataframe tbody tr th:only-of-type {\n",
       "        vertical-align: middle;\n",
       "    }\n",
       "\n",
       "    .dataframe tbody tr th {\n",
       "        vertical-align: top;\n",
       "    }\n",
       "\n",
       "    .dataframe thead th {\n",
       "        text-align: right;\n",
       "    }\n",
       "</style>\n",
       "<table border=\"1\" class=\"dataframe\">\n",
       "  <thead>\n",
       "    <tr style=\"text-align: right;\">\n",
       "      <th></th>\n",
       "      <th>Dist_Taxi</th>\n",
       "      <th>Dist_Market</th>\n",
       "      <th>Dist_Hospital</th>\n",
       "      <th>Carpet</th>\n",
       "      <th>Builtup</th>\n",
       "      <th>Rainfall</th>\n",
       "      <th>House_Price</th>\n",
       "    </tr>\n",
       "  </thead>\n",
       "  <tbody>\n",
       "    <tr>\n",
       "      <th>count</th>\n",
       "      <td>919.000000</td>\n",
       "      <td>919.000000</td>\n",
       "      <td>931.000000</td>\n",
       "      <td>924.000000</td>\n",
       "      <td>917.000000</td>\n",
       "      <td>932.000000</td>\n",
       "      <td>9.320000e+02</td>\n",
       "    </tr>\n",
       "    <tr>\n",
       "      <th>mean</th>\n",
       "      <td>8229.727965</td>\n",
       "      <td>11018.752992</td>\n",
       "      <td>13072.092374</td>\n",
       "      <td>1511.862554</td>\n",
       "      <td>1794.924755</td>\n",
       "      <td>785.579399</td>\n",
       "      <td>6.084695e+06</td>\n",
       "    </tr>\n",
       "    <tr>\n",
       "      <th>std</th>\n",
       "      <td>2561.985008</td>\n",
       "      <td>2543.920590</td>\n",
       "      <td>2586.456161</td>\n",
       "      <td>790.969660</td>\n",
       "      <td>468.159457</td>\n",
       "      <td>265.546853</td>\n",
       "      <td>5.025364e+06</td>\n",
       "    </tr>\n",
       "    <tr>\n",
       "      <th>min</th>\n",
       "      <td>146.000000</td>\n",
       "      <td>1666.000000</td>\n",
       "      <td>3227.000000</td>\n",
       "      <td>775.000000</td>\n",
       "      <td>932.000000</td>\n",
       "      <td>-110.000000</td>\n",
       "      <td>3.000000e+04</td>\n",
       "    </tr>\n",
       "    <tr>\n",
       "      <th>25%</th>\n",
       "      <td>6476.000000</td>\n",
       "      <td>9354.500000</td>\n",
       "      <td>11301.500000</td>\n",
       "      <td>1318.000000</td>\n",
       "      <td>1583.000000</td>\n",
       "      <td>600.000000</td>\n",
       "      <td>4.658000e+06</td>\n",
       "    </tr>\n",
       "    <tr>\n",
       "      <th>50%</th>\n",
       "      <td>8230.000000</td>\n",
       "      <td>11161.000000</td>\n",
       "      <td>13163.000000</td>\n",
       "      <td>1480.500000</td>\n",
       "      <td>1774.000000</td>\n",
       "      <td>780.000000</td>\n",
       "      <td>5.866000e+06</td>\n",
       "    </tr>\n",
       "    <tr>\n",
       "      <th>75%</th>\n",
       "      <td>9937.000000</td>\n",
       "      <td>12670.500000</td>\n",
       "      <td>14817.000000</td>\n",
       "      <td>1655.000000</td>\n",
       "      <td>1982.000000</td>\n",
       "      <td>970.000000</td>\n",
       "      <td>7.187250e+06</td>\n",
       "    </tr>\n",
       "    <tr>\n",
       "      <th>max</th>\n",
       "      <td>20662.000000</td>\n",
       "      <td>20945.000000</td>\n",
       "      <td>23294.000000</td>\n",
       "      <td>24300.000000</td>\n",
       "      <td>12730.000000</td>\n",
       "      <td>1560.000000</td>\n",
       "      <td>1.500000e+08</td>\n",
       "    </tr>\n",
       "  </tbody>\n",
       "</table>\n",
       "</div>"
      ],
      "text/plain": [
       "          Dist_Taxi   Dist_Market  Dist_Hospital        Carpet       Builtup  \\\n",
       "count    919.000000    919.000000     931.000000    924.000000    917.000000   \n",
       "mean    8229.727965  11018.752992   13072.092374   1511.862554   1794.924755   \n",
       "std     2561.985008   2543.920590    2586.456161    790.969660    468.159457   \n",
       "min      146.000000   1666.000000    3227.000000    775.000000    932.000000   \n",
       "25%     6476.000000   9354.500000   11301.500000   1318.000000   1583.000000   \n",
       "50%     8230.000000  11161.000000   13163.000000   1480.500000   1774.000000   \n",
       "75%     9937.000000  12670.500000   14817.000000   1655.000000   1982.000000   \n",
       "max    20662.000000  20945.000000   23294.000000  24300.000000  12730.000000   \n",
       "\n",
       "          Rainfall   House_Price  \n",
       "count   932.000000  9.320000e+02  \n",
       "mean    785.579399  6.084695e+06  \n",
       "std     265.546853  5.025364e+06  \n",
       "min    -110.000000  3.000000e+04  \n",
       "25%     600.000000  4.658000e+06  \n",
       "50%     780.000000  5.866000e+06  \n",
       "75%     970.000000  7.187250e+06  \n",
       "max    1560.000000  1.500000e+08  "
      ]
     },
     "execution_count": 15,
     "metadata": {},
     "output_type": "execute_result"
    }
   ],
   "source": [
    "df.describe()"
   ]
  },
  {
   "cell_type": "code",
   "execution_count": 16,
   "metadata": {},
   "outputs": [
    {
     "data": {
      "text/plain": [
       "Dist_Taxi        13\n",
       "Dist_Market      13\n",
       "Dist_Hospital     1\n",
       "Carpet            8\n",
       "Builtup          15\n",
       "Parking           0\n",
       "City_Category     0\n",
       "Rainfall          0\n",
       "House_Price       0\n",
       "dtype: int64"
      ]
     },
     "execution_count": 16,
     "metadata": {},
     "output_type": "execute_result"
    }
   ],
   "source": [
    "df.isnull().sum()  # code will help us in counting for any missing values in the data"
   ]
  },
  {
   "cell_type": "markdown",
   "metadata": {},
   "source": [
    "<div style=\"background-color:##EDF9FF\">\n",
    " <ul><li><h3>Distribution of target variable</h3></li></ul>\n",
    "</div>"
   ]
  },
  {
   "cell_type": "code",
   "execution_count": 18,
   "metadata": {},
   "outputs": [
    {
     "data": {
      "text/plain": [
       "<matplotlib.axes._subplots.AxesSubplot at 0x251a920d4a8>"
      ]
     },
     "execution_count": 18,
     "metadata": {},
     "output_type": "execute_result"
    },
    {
     "data": {
      "image/png": "[encoded data removed]",
      "text/plain": [
       "<Figure size 432x288 with 1 Axes>"
      ]
     },
     "metadata": {
      "needs_background": "light"
     },
     "output_type": "display_data"
    }
   ],
   "source": [
    "sns.distplot(df['House_Price'])  ## The chart explians that the distribution is skewed"
   ]
  },
  {
   "cell_type": "code",
   "execution_count": 19,
   "metadata": {
    "scrolled": true
   },
   "outputs": [
    {
     "data": {
      "text/plain": [
       "<matplotlib.axes._subplots.AxesSubplot at 0x251a9291278>"
      ]
     },
     "execution_count": 19,
     "metadata": {},
     "output_type": "execute_result"
    },
    {
     "data": {
      "image/png": "[encoded data removed]",
      "text/plain": [
       "<Figure size 432x288 with 1 Axes>"
      ]
     },
     "metadata": {
      "needs_background": "light"
     },
     "output_type": "display_data"
    }
   ],
   "source": [
    "sns.boxplot(df['House_Price'])"
   ]
  },
  {
   "cell_type": "markdown",
   "metadata": {},
   "source": [
    "<div style=\"background-color:##EDF9FF\">\n",
    " <ul><li><h3>Finding outlier</h3></li></ul>\n",
    "</div>"
   ]
  },
  {
   "cell_type": "code",
   "execution_count": 20,
   "metadata": {},
   "outputs": [],
   "source": [
    "hp = sorted(df['House_Price'])\n",
    "q1, q3= np.percentile(hp,[25,75])\n",
    "lower_bound = q1 -(1.5 * (q3-q1)) \n",
    "upper_bound = q3 + (1.5 * (q3-q1))\n",
    "below = df['House_Price'] > lower_bound\n",
    "above = df['House_Price'] < upper_bound\n",
    "df = df[below & above]"
   ]
  },
  {
   "cell_type": "code",
   "execution_count": 21,
   "metadata": {},
   "outputs": [
    {
     "data": {
      "text/plain": [
       "(929, 9)"
      ]
     },
     "execution_count": 21,
     "metadata": {},
     "output_type": "execute_result"
    }
   ],
   "source": [
    "df\n",
    "df.shape"
   ]
  },
  {
   "cell_type": "code",
   "execution_count": 22,
   "metadata": {},
   "outputs": [
    {
     "data": {
      "text/plain": [
       "<matplotlib.axes._subplots.AxesSubplot at 0x251a937b240>"
      ]
     },
     "execution_count": 22,
     "metadata": {},
     "output_type": "execute_result"
    },
    {
     "data": {
      "image/png": "[encoded data removed]",
      "text/plain": [
       "<Figure size 432x288 with 1 Axes>"
      ]
     },
     "metadata": {
      "needs_background": "light"
     },
     "output_type": "display_data"
    }
   ],
   "source": [
    "sns.boxplot(df['House_Price']) ### after removing the outlier, we are able to make the distrbution fairly normal"
   ]
  },
  {
   "cell_type": "code",
   "execution_count": 23,
   "metadata": {},
   "outputs": [
    {
     "data": {
      "text/plain": [
       "<matplotlib.axes._subplots.AxesSubplot at 0x251a93f4da0>"
      ]
     },
     "execution_count": 23,
     "metadata": {},
     "output_type": "execute_result"
    },
    {
     "data": {
      "image/png": "[encoded data removed]",
      "text/plain": [
       "<Figure size 432x288 with 1 Axes>"
      ]
     },
     "metadata": {
      "needs_background": "light"
     },
     "output_type": "display_data"
    }
   ],
   "source": [
    "sns.distplot(df['House_Price'])"
   ]
  },
  {
   "cell_type": "markdown",
   "metadata": {},
   "source": [
    "<div style=\"background-color:##EDF9FF\">\n",
    " <ul><li><h3>Checking for categories</h3></li></ul>\n",
    "</div>"
   ]
  },
  {
   "cell_type": "code",
   "execution_count": 24,
   "metadata": {},
   "outputs": [
    {
     "data": {
      "text/plain": [
       "Dist_Taxi        float64\n",
       "Dist_Market      float64\n",
       "Dist_Hospital    float64\n",
       "Carpet           float64\n",
       "Builtup          float64\n",
       "Parking           object\n",
       "City_Category     object\n",
       "Rainfall           int64\n",
       "House_Price        int64\n",
       "dtype: object"
      ]
     },
     "execution_count": 24,
     "metadata": {},
     "output_type": "execute_result"
    }
   ],
   "source": [
    "df.dtypes"
   ]
  },
  {
   "cell_type": "code",
   "execution_count": 25,
   "metadata": {},
   "outputs": [
    {
     "data": {
      "text/plain": [
       "CAT B    364\n",
       "CAT A    327\n",
       "CAT C    238\n",
       "Name: City_Category, dtype: int64"
      ]
     },
     "execution_count": 25,
     "metadata": {},
     "output_type": "execute_result"
    }
   ],
   "source": [
    "df.City_Category.value_counts() ## Distribution of observation for city category"
   ]
  },
  {
   "cell_type": "code",
   "execution_count": 27,
   "metadata": {},
   "outputs": [
    {
     "data": {
      "text/plain": [
       "Open            371\n",
       "Not Provided    227\n",
       "Covered         187\n",
       "No Parking      144\n",
       "Name: Parking, dtype: int64"
      ]
     },
     "execution_count": 27,
     "metadata": {},
     "output_type": "execute_result"
    }
   ],
   "source": [
    "df.Parking.value_counts() ## Distribution of observation for parking"
   ]
  },
  {
   "cell_type": "markdown",
   "metadata": {},
   "source": [
    "<div style=\"background-color:##EDF9FF\">\n",
    " <ul><li><h3>Removing missing values</h3></li></ul>\n",
    "</div>"
   ]
  },
  {
   "cell_type": "code",
   "execution_count": 28,
   "metadata": {},
   "outputs": [],
   "source": [
    "df_new = df.dropna() ## Code will remove any instance which contans any null values"
   ]
  },
  {
   "cell_type": "code",
   "execution_count": 29,
   "metadata": {},
   "outputs": [
    {
     "data": {
      "text/plain": [
       "(896, 9)"
      ]
     },
     "execution_count": 29,
     "metadata": {},
     "output_type": "execute_result"
    }
   ],
   "source": [
    "df_new.shape"
   ]
  },
  {
   "cell_type": "markdown",
   "metadata": {},
   "source": [
    "<div style=\"background-color:##EDF9FF\">\n",
    " <ul><li><h3>Checking for any other outlier in the data</h3></li></ul>\n",
    "</div>"
   ]
  },
  {
   "cell_type": "code",
   "execution_count": 30,
   "metadata": {},
   "outputs": [
    {
     "data": {
      "text/plain": [
       "Index(['Dist_Taxi', 'Dist_Market', 'Dist_Hospital', 'Carpet', 'Builtup',\n",
       "       'Parking', 'City_Category', 'Rainfall', 'House_Price'],\n",
       "      dtype='object')"
      ]
     },
     "execution_count": 30,
     "metadata": {},
     "output_type": "execute_result"
    }
   ],
   "source": [
    "df_new.columns"
   ]
  },
  {
   "cell_type": "code",
   "execution_count": 31,
   "metadata": {},
   "outputs": [
    {
     "data": {
      "text/plain": [
       "Dist_Taxi        float64\n",
       "Dist_Market      float64\n",
       "Dist_Hospital    float64\n",
       "Carpet           float64\n",
       "Builtup          float64\n",
       "Parking           object\n",
       "City_Category     object\n",
       "Rainfall           int64\n",
       "House_Price        int64\n",
       "dtype: object"
      ]
     },
     "execution_count": 31,
     "metadata": {},
     "output_type": "execute_result"
    }
   ],
   "source": [
    "df_new.dtypes"
   ]
  },
  {
   "cell_type": "markdown",
   "metadata": {},
   "source": [
    "<div style=\"background-color:##FBFFE3\">\n",
    "   <div style=\"float:left\">\n",
    "       <img src='https://drive.google.com/uc?export=download&id=1No0HgbMyg7V7pVTF0A7LEIcruGkeH-BX', width=20,height=20,>\n",
    "   </div>\n",
    "   <span style=\"padding:20px;\">Data is centered,as well has some outlier. Its not a good idea to remove the outlier since it contains wealth of information which we could loose if we dont include them in our analysis</span>\n",
    "</div>"
   ]
  },
  {
   "cell_type": "code",
   "execution_count": 32,
   "metadata": {},
   "outputs": [
    {
     "data": {
      "text/plain": [
       "<matplotlib.axes._subplots.AxesSubplot at 0x251a9960978>"
      ]
     },
     "execution_count": 32,
     "metadata": {},
     "output_type": "execute_result"
    },
    {
     "data": {
      "image/png": "[encoded data removed]",
      "text/plain": [
       "<Figure size 432x288 with 1 Axes>"
      ]
     },
     "metadata": {
      "needs_background": "light"
     },
     "output_type": "display_data"
    }
   ],
   "source": [
    "from sklearn.preprocessing import StandardScaler\n",
    "scaler = StandardScaler().fit(df_new[['Dist_Taxi', 'Dist_Market', 'Dist_Hospital', 'Carpet', 'Builtup', 'Rainfall']])\n",
    "pd.DataFrame(scaler.transform(df_new[['Dist_Taxi', 'Dist_Market', 'Dist_Hospital', 'Carpet', 'Builtup', 'Rainfall']])).boxplot()"
   ]
  },
  {
   "cell_type": "code",
   "execution_count": 33,
   "metadata": {},
   "outputs": [
    {
     "data": {
      "text/plain": [
       "<matplotlib.axes._subplots.AxesSubplot at 0x251a9470b70>"
      ]
     },
     "execution_count": 33,
     "metadata": {},
     "output_type": "execute_result"
    },
    {
     "data": {
      "image/png": "[encoded data removed]",
      "text/plain": [
       "<Figure size 432x288 with 1 Axes>"
      ]
     },
     "metadata": {
      "needs_background": "light"
     },
     "output_type": "display_data"
    }
   ],
   "source": [
    "df_new.boxplot(column = ['Dist_Taxi', 'Dist_Market', 'Dist_Hospital', 'Carpet', 'Builtup', 'Rainfall'])"
   ]
  },
  {
   "cell_type": "markdown",
   "metadata": {},
   "source": [
    "<div style=\"background-color:##EDF9FF\">\n",
    " <ul><li><h3>Imputing missing values</h3></li></ul>\n",
    "</div>"
   ]
  },
  {
   "cell_type": "code",
   "execution_count": 35,
   "metadata": {},
   "outputs": [],
   "source": [
    "from sklearn.impute import SimpleImputer"
   ]
  },
  {
   "cell_type": "markdown",
   "metadata": {},
   "source": [
    "<div style=\"background-color:##FBFFE3\">\n",
    "   <div style=\"float:left\">\n",
    "       <img src='https://drive.google.com/uc?export=download&id=1No0HgbMyg7V7pVTF0A7LEIcruGkeH-BX', width=20,height=20,>\n",
    "   </div>\n",
    "   <span style=\"padding:20px;\">There is an iterative imputer exist which models each feature with \n",
    "missing values as a function of other features, and uses that estimate for imputation.\n",
    "For our exercise we will use simple imputer but learner should be aware of more sophisticated imputation techniques\n",
    "Many strategies are avaiable to impute values.we are using most frequent to handle both numerical and categroical data in one line.\n",
    "Learner can try different strategy for both types of variables (such as mean which is covered in the module)</span>\n",
    "</div>"
   ]
  },
  {
   "cell_type": "code",
   "execution_count": 36,
   "metadata": {},
   "outputs": [
    {
     "data": {
      "text/html": [
       "<div>\n",
       "<style scoped>\n",
       "    .dataframe tbody tr th:only-of-type {\n",
       "        vertical-align: middle;\n",
       "    }\n",
       "\n",
       "    .dataframe tbody tr th {\n",
       "        vertical-align: top;\n",
       "    }\n",
       "\n",
       "    .dataframe thead th {\n",
       "        text-align: right;\n",
       "    }\n",
       "</style>\n",
       "<table border=\"1\" class=\"dataframe\">\n",
       "  <thead>\n",
       "    <tr style=\"text-align: right;\">\n",
       "      <th></th>\n",
       "      <th>Dist_Taxi</th>\n",
       "      <th>Dist_Market</th>\n",
       "      <th>Dist_Hospital</th>\n",
       "      <th>Carpet</th>\n",
       "      <th>Builtup</th>\n",
       "      <th>Parking</th>\n",
       "      <th>City_Category</th>\n",
       "      <th>Rainfall</th>\n",
       "      <th>House_Price</th>\n",
       "    </tr>\n",
       "  </thead>\n",
       "  <tbody>\n",
       "    <tr>\n",
       "      <th>0</th>\n",
       "      <td>9796</td>\n",
       "      <td>5250</td>\n",
       "      <td>10703</td>\n",
       "      <td>1659</td>\n",
       "      <td>1961</td>\n",
       "      <td>Open</td>\n",
       "      <td>CAT B</td>\n",
       "      <td>530</td>\n",
       "      <td>6649000</td>\n",
       "    </tr>\n",
       "    <tr>\n",
       "      <th>1</th>\n",
       "      <td>8294</td>\n",
       "      <td>8186</td>\n",
       "      <td>12694</td>\n",
       "      <td>1461</td>\n",
       "      <td>1752</td>\n",
       "      <td>Not Provided</td>\n",
       "      <td>CAT B</td>\n",
       "      <td>210</td>\n",
       "      <td>3982000</td>\n",
       "    </tr>\n",
       "    <tr>\n",
       "      <th>2</th>\n",
       "      <td>11001</td>\n",
       "      <td>14399</td>\n",
       "      <td>16991</td>\n",
       "      <td>1340</td>\n",
       "      <td>1609</td>\n",
       "      <td>Not Provided</td>\n",
       "      <td>CAT A</td>\n",
       "      <td>720</td>\n",
       "      <td>5401000</td>\n",
       "    </tr>\n",
       "    <tr>\n",
       "      <th>3</th>\n",
       "      <td>8301</td>\n",
       "      <td>11188</td>\n",
       "      <td>12289</td>\n",
       "      <td>1451</td>\n",
       "      <td>1748</td>\n",
       "      <td>Covered</td>\n",
       "      <td>CAT B</td>\n",
       "      <td>620</td>\n",
       "      <td>5373000</td>\n",
       "    </tr>\n",
       "    <tr>\n",
       "      <th>4</th>\n",
       "      <td>10510</td>\n",
       "      <td>12629</td>\n",
       "      <td>13921</td>\n",
       "      <td>1770</td>\n",
       "      <td>2111</td>\n",
       "      <td>Not Provided</td>\n",
       "      <td>CAT B</td>\n",
       "      <td>450</td>\n",
       "      <td>4662000</td>\n",
       "    </tr>\n",
       "  </tbody>\n",
       "</table>\n",
       "</div>"
      ],
      "text/plain": [
       "  Dist_Taxi Dist_Market Dist_Hospital Carpet Builtup       Parking  \\\n",
       "0      9796        5250         10703   1659    1961          Open   \n",
       "1      8294        8186         12694   1461    1752  Not Provided   \n",
       "2     11001       14399         16991   1340    1609  Not Provided   \n",
       "3      8301       11188         12289   1451    1748       Covered   \n",
       "4     10510       12629         13921   1770    2111  Not Provided   \n",
       "\n",
       "  City_Category Rainfall House_Price  \n",
       "0         CAT B      530     6649000  \n",
       "1         CAT B      210     3982000  \n",
       "2         CAT A      720     5401000  \n",
       "3         CAT B      620     5373000  \n",
       "4         CAT B      450     4662000  "
      ]
     },
     "execution_count": 36,
     "metadata": {},
     "output_type": "execute_result"
    }
   ],
   "source": [
    "imp_mean = SimpleImputer(missing_values=np.nan, strategy='most_frequent')  \n",
    "df_imputer1 = pd.DataFrame(imp_mean.fit_transform(df.values))\n",
    "df_imputer1.columns = df.columns\n",
    "df_imputer1.head()"
   ]
  },
  {
   "cell_type": "code",
   "execution_count": 37,
   "metadata": {},
   "outputs": [
    {
     "data": {
      "text/plain": [
       "Dist_Taxi        0\n",
       "Dist_Market      0\n",
       "Dist_Hospital    0\n",
       "Carpet           0\n",
       "Builtup          0\n",
       "Parking          0\n",
       "City_Category    0\n",
       "Rainfall         0\n",
       "House_Price      0\n",
       "dtype: int64"
      ]
     },
     "execution_count": 37,
     "metadata": {},
     "output_type": "execute_result"
    }
   ],
   "source": [
    "df_imputer1.isnull().sum()"
   ]
  },
  {
   "cell_type": "code",
   "execution_count": 38,
   "metadata": {},
   "outputs": [],
   "source": [
    "df_imputed = df.fillna(df.mean()) ### Another technique to fill all missing value acoss all column with mean."
   ]
  },
  {
   "cell_type": "code",
   "execution_count": 39,
   "metadata": {},
   "outputs": [
    {
     "data": {
      "text/plain": [
       "Dist_Taxi        0\n",
       "Dist_Market      0\n",
       "Dist_Hospital    0\n",
       "Carpet           0\n",
       "Builtup          0\n",
       "Parking          0\n",
       "City_Category    0\n",
       "Rainfall         0\n",
       "House_Price      0\n",
       "dtype: int64"
      ]
     },
     "execution_count": 39,
     "metadata": {},
     "output_type": "execute_result"
    }
   ],
   "source": [
    "df_imputed.isnull().sum()"
   ]
  },
  {
   "cell_type": "markdown",
   "metadata": {},
   "source": [
    "<div style=\"background-color:##EDF9FF\">\n",
    " <ul><li><h3>OneHotEncoding</h3></li></ul>\n",
    "</div>"
   ]
  },
  {
   "cell_type": "code",
   "execution_count": 40,
   "metadata": {},
   "outputs": [
    {
     "data": {
      "text/plain": [
       "Dist_Taxi        float64\n",
       "Dist_Market      float64\n",
       "Dist_Hospital    float64\n",
       "Carpet           float64\n",
       "Builtup          float64\n",
       "Parking           object\n",
       "City_Category     object\n",
       "Rainfall           int64\n",
       "House_Price        int64\n",
       "dtype: object"
      ]
     },
     "execution_count": 40,
     "metadata": {},
     "output_type": "execute_result"
    }
   ],
   "source": [
    "df.dtypes"
   ]
  },
  {
   "cell_type": "code",
   "execution_count": 41,
   "metadata": {},
   "outputs": [],
   "source": [
    "from sklearn.preprocessing import LabelEncoder\n",
    "from sklearn.preprocessing import OneHotEncoder"
   ]
  },
  {
   "cell_type": "code",
   "execution_count": 42,
   "metadata": {},
   "outputs": [],
   "source": [
    "category = df_imputed.select_dtypes(include=[object])\n",
    "num =  df_imputed.select_dtypes(include=['float64','int64'])"
   ]
  },
  {
   "cell_type": "code",
   "execution_count": 87,
   "metadata": {},
   "outputs": [
    {
     "name": "stdout",
     "output_type": "stream",
     "text": [
      "<class 'pandas.core.frame.DataFrame'>\n"
     ]
    },
    {
     "name": "stderr",
     "output_type": "stream",
     "text": [
      "C:\\Users\\VarunTD\\Anaconda3\\lib\\site-packages\\sklearn\\preprocessing\\_encoders.py:415: FutureWarning: The handling of integer data will change in version 0.22. Currently, the categories are determined based on the range [0, max(values)], while in the future they will be determined based on the unique values.\n",
      "If you want the future behaviour and silence this warning, you can specify \"categories='auto'\".\n",
      "In case you used a LabelEncoder before this OneHotEncoder to convert the categories to integers, then you can now use the OneHotEncoder directly.\n",
      "  warnings.warn(msg, FutureWarning)\n"
     ]
    }
   ],
   "source": [
    "encoded = category.apply(LabelEncoder().fit_transform)\n",
    "onehot = pd.DataFrame(OneHotEncoder().fit_transform(encoded).toarray())\n",
    "#print(type(onehot))\n",
    "onehot.columns = ['Parking_Covered', 'Parking_No Parking',\n",
    "       'Parking_Not Provided', 'Parking_Open', 'City_Category_CAT A',\n",
    "       'City_Category_CAT B', 'City_Category_CAT C']"
   ]
  },
  {
   "cell_type": "code",
   "execution_count": 44,
   "metadata": {},
   "outputs": [
    {
     "data": {
      "text/html": [
       "<div>\n",
       "<style scoped>\n",
       "    .dataframe tbody tr th:only-of-type {\n",
       "        vertical-align: middle;\n",
       "    }\n",
       "\n",
       "    .dataframe tbody tr th {\n",
       "        vertical-align: top;\n",
       "    }\n",
       "\n",
       "    .dataframe thead th {\n",
       "        text-align: right;\n",
       "    }\n",
       "</style>\n",
       "<table border=\"1\" class=\"dataframe\">\n",
       "  <thead>\n",
       "    <tr style=\"text-align: right;\">\n",
       "      <th></th>\n",
       "      <th>Parking_Covered</th>\n",
       "      <th>Parking_No Parking</th>\n",
       "      <th>Parking_Not Provided</th>\n",
       "      <th>Parking_Open</th>\n",
       "      <th>City_Category_CAT A</th>\n",
       "      <th>City_Category_CAT B</th>\n",
       "      <th>City_Category_CAT C</th>\n",
       "    </tr>\n",
       "  </thead>\n",
       "  <tbody>\n",
       "    <tr>\n",
       "      <th>0</th>\n",
       "      <td>0.0</td>\n",
       "      <td>0.0</td>\n",
       "      <td>0.0</td>\n",
       "      <td>1.0</td>\n",
       "      <td>0.0</td>\n",
       "      <td>1.0</td>\n",
       "      <td>0.0</td>\n",
       "    </tr>\n",
       "    <tr>\n",
       "      <th>1</th>\n",
       "      <td>0.0</td>\n",
       "      <td>0.0</td>\n",
       "      <td>1.0</td>\n",
       "      <td>0.0</td>\n",
       "      <td>0.0</td>\n",
       "      <td>1.0</td>\n",
       "      <td>0.0</td>\n",
       "    </tr>\n",
       "    <tr>\n",
       "      <th>2</th>\n",
       "      <td>0.0</td>\n",
       "      <td>0.0</td>\n",
       "      <td>1.0</td>\n",
       "      <td>0.0</td>\n",
       "      <td>1.0</td>\n",
       "      <td>0.0</td>\n",
       "      <td>0.0</td>\n",
       "    </tr>\n",
       "    <tr>\n",
       "      <th>3</th>\n",
       "      <td>1.0</td>\n",
       "      <td>0.0</td>\n",
       "      <td>0.0</td>\n",
       "      <td>0.0</td>\n",
       "      <td>0.0</td>\n",
       "      <td>1.0</td>\n",
       "      <td>0.0</td>\n",
       "    </tr>\n",
       "    <tr>\n",
       "      <th>4</th>\n",
       "      <td>0.0</td>\n",
       "      <td>0.0</td>\n",
       "      <td>1.0</td>\n",
       "      <td>0.0</td>\n",
       "      <td>0.0</td>\n",
       "      <td>1.0</td>\n",
       "      <td>0.0</td>\n",
       "    </tr>\n",
       "  </tbody>\n",
       "</table>\n",
       "</div>"
      ],
      "text/plain": [
       "   Parking_Covered  Parking_No Parking  Parking_Not Provided  Parking_Open  \\\n",
       "0              0.0                 0.0                   0.0           1.0   \n",
       "1              0.0                 0.0                   1.0           0.0   \n",
       "2              0.0                 0.0                   1.0           0.0   \n",
       "3              1.0                 0.0                   0.0           0.0   \n",
       "4              0.0                 0.0                   1.0           0.0   \n",
       "\n",
       "   City_Category_CAT A  City_Category_CAT B  City_Category_CAT C  \n",
       "0                  0.0                  1.0                  0.0  \n",
       "1                  0.0                  1.0                  0.0  \n",
       "2                  1.0                  0.0                  0.0  \n",
       "3                  0.0                  1.0                  0.0  \n",
       "4                  0.0                  1.0                  0.0  "
      ]
     },
     "execution_count": 44,
     "metadata": {},
     "output_type": "execute_result"
    }
   ],
   "source": [
    "onehot.head()"
   ]
  },
  {
   "cell_type": "code",
   "execution_count": 46,
   "metadata": {},
   "outputs": [],
   "source": [
    "df_onehotencoded = pd.concat([onehot.reset_index(drop=True), num], axis=1) ## Conctenating one-hot dataframe with other variable"
   ]
  },
  {
   "cell_type": "code",
   "execution_count": 47,
   "metadata": {},
   "outputs": [
    {
     "data": {
      "text/html": [
       "<div>\n",
       "<style scoped>\n",
       "    .dataframe tbody tr th:only-of-type {\n",
       "        vertical-align: middle;\n",
       "    }\n",
       "\n",
       "    .dataframe tbody tr th {\n",
       "        vertical-align: top;\n",
       "    }\n",
       "\n",
       "    .dataframe thead th {\n",
       "        text-align: right;\n",
       "    }\n",
       "</style>\n",
       "<table border=\"1\" class=\"dataframe\">\n",
       "  <thead>\n",
       "    <tr style=\"text-align: right;\">\n",
       "      <th></th>\n",
       "      <th>Parking_Covered</th>\n",
       "      <th>Parking_No Parking</th>\n",
       "      <th>Parking_Not Provided</th>\n",
       "      <th>Parking_Open</th>\n",
       "      <th>City_Category_CAT A</th>\n",
       "      <th>City_Category_CAT B</th>\n",
       "      <th>City_Category_CAT C</th>\n",
       "      <th>Dist_Taxi</th>\n",
       "      <th>Dist_Market</th>\n",
       "      <th>Dist_Hospital</th>\n",
       "      <th>Carpet</th>\n",
       "      <th>Builtup</th>\n",
       "      <th>Rainfall</th>\n",
       "      <th>House_Price</th>\n",
       "    </tr>\n",
       "  </thead>\n",
       "  <tbody>\n",
       "    <tr>\n",
       "      <th>0</th>\n",
       "      <td>0.0</td>\n",
       "      <td>0.0</td>\n",
       "      <td>0.0</td>\n",
       "      <td>1.0</td>\n",
       "      <td>0.0</td>\n",
       "      <td>1.0</td>\n",
       "      <td>0.0</td>\n",
       "      <td>9796.0</td>\n",
       "      <td>5250.0</td>\n",
       "      <td>10703.0</td>\n",
       "      <td>1659.0</td>\n",
       "      <td>1961.0</td>\n",
       "      <td>530.0</td>\n",
       "      <td>6649000.0</td>\n",
       "    </tr>\n",
       "    <tr>\n",
       "      <th>1</th>\n",
       "      <td>0.0</td>\n",
       "      <td>0.0</td>\n",
       "      <td>1.0</td>\n",
       "      <td>0.0</td>\n",
       "      <td>0.0</td>\n",
       "      <td>1.0</td>\n",
       "      <td>0.0</td>\n",
       "      <td>8294.0</td>\n",
       "      <td>8186.0</td>\n",
       "      <td>12694.0</td>\n",
       "      <td>1461.0</td>\n",
       "      <td>1752.0</td>\n",
       "      <td>210.0</td>\n",
       "      <td>3982000.0</td>\n",
       "    </tr>\n",
       "    <tr>\n",
       "      <th>2</th>\n",
       "      <td>0.0</td>\n",
       "      <td>0.0</td>\n",
       "      <td>1.0</td>\n",
       "      <td>0.0</td>\n",
       "      <td>1.0</td>\n",
       "      <td>0.0</td>\n",
       "      <td>0.0</td>\n",
       "      <td>11001.0</td>\n",
       "      <td>14399.0</td>\n",
       "      <td>16991.0</td>\n",
       "      <td>1340.0</td>\n",
       "      <td>1609.0</td>\n",
       "      <td>720.0</td>\n",
       "      <td>5401000.0</td>\n",
       "    </tr>\n",
       "    <tr>\n",
       "      <th>3</th>\n",
       "      <td>1.0</td>\n",
       "      <td>0.0</td>\n",
       "      <td>0.0</td>\n",
       "      <td>0.0</td>\n",
       "      <td>0.0</td>\n",
       "      <td>1.0</td>\n",
       "      <td>0.0</td>\n",
       "      <td>8301.0</td>\n",
       "      <td>11188.0</td>\n",
       "      <td>12289.0</td>\n",
       "      <td>1451.0</td>\n",
       "      <td>1748.0</td>\n",
       "      <td>620.0</td>\n",
       "      <td>5373000.0</td>\n",
       "    </tr>\n",
       "    <tr>\n",
       "      <th>4</th>\n",
       "      <td>0.0</td>\n",
       "      <td>0.0</td>\n",
       "      <td>1.0</td>\n",
       "      <td>0.0</td>\n",
       "      <td>0.0</td>\n",
       "      <td>1.0</td>\n",
       "      <td>0.0</td>\n",
       "      <td>10510.0</td>\n",
       "      <td>12629.0</td>\n",
       "      <td>13921.0</td>\n",
       "      <td>1770.0</td>\n",
       "      <td>2111.0</td>\n",
       "      <td>450.0</td>\n",
       "      <td>4662000.0</td>\n",
       "    </tr>\n",
       "  </tbody>\n",
       "</table>\n",
       "</div>"
      ],
      "text/plain": [
       "   Parking_Covered  Parking_No Parking  Parking_Not Provided  Parking_Open  \\\n",
       "0              0.0                 0.0                   0.0           1.0   \n",
       "1              0.0                 0.0                   1.0           0.0   \n",
       "2              0.0                 0.0                   1.0           0.0   \n",
       "3              1.0                 0.0                   0.0           0.0   \n",
       "4              0.0                 0.0                   1.0           0.0   \n",
       "\n",
       "   City_Category_CAT A  City_Category_CAT B  City_Category_CAT C  Dist_Taxi  \\\n",
       "0                  0.0                  1.0                  0.0     9796.0   \n",
       "1                  0.0                  1.0                  0.0     8294.0   \n",
       "2                  1.0                  0.0                  0.0    11001.0   \n",
       "3                  0.0                  1.0                  0.0     8301.0   \n",
       "4                  0.0                  1.0                  0.0    10510.0   \n",
       "\n",
       "   Dist_Market  Dist_Hospital  Carpet  Builtup  Rainfall  House_Price  \n",
       "0       5250.0        10703.0  1659.0   1961.0     530.0    6649000.0  \n",
       "1       8186.0        12694.0  1461.0   1752.0     210.0    3982000.0  \n",
       "2      14399.0        16991.0  1340.0   1609.0     720.0    5401000.0  \n",
       "3      11188.0        12289.0  1451.0   1748.0     620.0    5373000.0  \n",
       "4      12629.0        13921.0  1770.0   2111.0     450.0    4662000.0  "
      ]
     },
     "execution_count": 47,
     "metadata": {},
     "output_type": "execute_result"
    }
   ],
   "source": [
    "df_onehotencoded.head()"
   ]
  },
  {
   "cell_type": "markdown",
   "metadata": {},
   "source": [
    "<div style=\"background-color:##FBFFE3\">\n",
    "   <div style=\"float:left\">\n",
    "       <img src='https://drive.google.com/uc?export=download&id=1No0HgbMyg7V7pVTF0A7LEIcruGkeH-BX', width=20,height=20,>\n",
    "   </div>\n",
    "   <span style=\"padding:20px;\">Alternative method in pandas</span>\n",
    "</div>"
   ]
  },
  {
   "cell_type": "code",
   "execution_count": 48,
   "metadata": {},
   "outputs": [],
   "source": [
    "getdummy = pd.get_dummies(df_imputed) #### Method available in Pandas"
   ]
  },
  {
   "cell_type": "code",
   "execution_count": 49,
   "metadata": {},
   "outputs": [
    {
     "data": {
      "text/html": [
       "<div>\n",
       "<style scoped>\n",
       "    .dataframe tbody tr th:only-of-type {\n",
       "        vertical-align: middle;\n",
       "    }\n",
       "\n",
       "    .dataframe tbody tr th {\n",
       "        vertical-align: top;\n",
       "    }\n",
       "\n",
       "    .dataframe thead th {\n",
       "        text-align: right;\n",
       "    }\n",
       "</style>\n",
       "<table border=\"1\" class=\"dataframe\">\n",
       "  <thead>\n",
       "    <tr style=\"text-align: right;\">\n",
       "      <th></th>\n",
       "      <th>Dist_Taxi</th>\n",
       "      <th>Dist_Market</th>\n",
       "      <th>Dist_Hospital</th>\n",
       "      <th>Carpet</th>\n",
       "      <th>Builtup</th>\n",
       "      <th>Rainfall</th>\n",
       "      <th>House_Price</th>\n",
       "      <th>Parking_Covered</th>\n",
       "      <th>Parking_No Parking</th>\n",
       "      <th>Parking_Not Provided</th>\n",
       "      <th>Parking_Open</th>\n",
       "      <th>City_Category_CAT A</th>\n",
       "      <th>City_Category_CAT B</th>\n",
       "      <th>City_Category_CAT C</th>\n",
       "    </tr>\n",
       "  </thead>\n",
       "  <tbody>\n",
       "    <tr>\n",
       "      <th>0</th>\n",
       "      <td>9796.0</td>\n",
       "      <td>5250.0</td>\n",
       "      <td>10703.0</td>\n",
       "      <td>1659.0</td>\n",
       "      <td>1961.0</td>\n",
       "      <td>530</td>\n",
       "      <td>6649000</td>\n",
       "      <td>0</td>\n",
       "      <td>0</td>\n",
       "      <td>0</td>\n",
       "      <td>1</td>\n",
       "      <td>0</td>\n",
       "      <td>1</td>\n",
       "      <td>0</td>\n",
       "    </tr>\n",
       "    <tr>\n",
       "      <th>1</th>\n",
       "      <td>8294.0</td>\n",
       "      <td>8186.0</td>\n",
       "      <td>12694.0</td>\n",
       "      <td>1461.0</td>\n",
       "      <td>1752.0</td>\n",
       "      <td>210</td>\n",
       "      <td>3982000</td>\n",
       "      <td>0</td>\n",
       "      <td>0</td>\n",
       "      <td>1</td>\n",
       "      <td>0</td>\n",
       "      <td>0</td>\n",
       "      <td>1</td>\n",
       "      <td>0</td>\n",
       "    </tr>\n",
       "    <tr>\n",
       "      <th>2</th>\n",
       "      <td>11001.0</td>\n",
       "      <td>14399.0</td>\n",
       "      <td>16991.0</td>\n",
       "      <td>1340.0</td>\n",
       "      <td>1609.0</td>\n",
       "      <td>720</td>\n",
       "      <td>5401000</td>\n",
       "      <td>0</td>\n",
       "      <td>0</td>\n",
       "      <td>1</td>\n",
       "      <td>0</td>\n",
       "      <td>1</td>\n",
       "      <td>0</td>\n",
       "      <td>0</td>\n",
       "    </tr>\n",
       "    <tr>\n",
       "      <th>3</th>\n",
       "      <td>8301.0</td>\n",
       "      <td>11188.0</td>\n",
       "      <td>12289.0</td>\n",
       "      <td>1451.0</td>\n",
       "      <td>1748.0</td>\n",
       "      <td>620</td>\n",
       "      <td>5373000</td>\n",
       "      <td>1</td>\n",
       "      <td>0</td>\n",
       "      <td>0</td>\n",
       "      <td>0</td>\n",
       "      <td>0</td>\n",
       "      <td>1</td>\n",
       "      <td>0</td>\n",
       "    </tr>\n",
       "    <tr>\n",
       "      <th>4</th>\n",
       "      <td>10510.0</td>\n",
       "      <td>12629.0</td>\n",
       "      <td>13921.0</td>\n",
       "      <td>1770.0</td>\n",
       "      <td>2111.0</td>\n",
       "      <td>450</td>\n",
       "      <td>4662000</td>\n",
       "      <td>0</td>\n",
       "      <td>0</td>\n",
       "      <td>1</td>\n",
       "      <td>0</td>\n",
       "      <td>0</td>\n",
       "      <td>1</td>\n",
       "      <td>0</td>\n",
       "    </tr>\n",
       "  </tbody>\n",
       "</table>\n",
       "</div>"
      ],
      "text/plain": [
       "   Dist_Taxi  Dist_Market  Dist_Hospital  Carpet  Builtup  Rainfall  \\\n",
       "0     9796.0       5250.0        10703.0  1659.0   1961.0       530   \n",
       "1     8294.0       8186.0        12694.0  1461.0   1752.0       210   \n",
       "2    11001.0      14399.0        16991.0  1340.0   1609.0       720   \n",
       "3     8301.0      11188.0        12289.0  1451.0   1748.0       620   \n",
       "4    10510.0      12629.0        13921.0  1770.0   2111.0       450   \n",
       "\n",
       "   House_Price  Parking_Covered  Parking_No Parking  Parking_Not Provided  \\\n",
       "0      6649000                0                   0                     0   \n",
       "1      3982000                0                   0                     1   \n",
       "2      5401000                0                   0                     1   \n",
       "3      5373000                1                   0                     0   \n",
       "4      4662000                0                   0                     1   \n",
       "\n",
       "   Parking_Open  City_Category_CAT A  City_Category_CAT B  City_Category_CAT C  \n",
       "0             1                    0                    1                    0  \n",
       "1             0                    0                    1                    0  \n",
       "2             0                    1                    0                    0  \n",
       "3             0                    0                    1                    0  \n",
       "4             0                    0                    1                    0  "
      ]
     },
     "execution_count": 49,
     "metadata": {},
     "output_type": "execute_result"
    }
   ],
   "source": [
    "getdummy.head()"
   ]
  },
  {
   "cell_type": "markdown",
   "metadata": {},
   "source": [
    "<div style=\"background-color:##EDF9FF\">\n",
    " <ul><li><h3>Feature Selection</h3></li></ul>\n",
    "</div>"
   ]
  },
  {
   "cell_type": "code",
   "execution_count": 50,
   "metadata": {},
   "outputs": [
    {
     "data": {
      "text/html": [
       "<div>\n",
       "<style scoped>\n",
       "    .dataframe tbody tr th:only-of-type {\n",
       "        vertical-align: middle;\n",
       "    }\n",
       "\n",
       "    .dataframe tbody tr th {\n",
       "        vertical-align: top;\n",
       "    }\n",
       "\n",
       "    .dataframe thead th {\n",
       "        text-align: right;\n",
       "    }\n",
       "</style>\n",
       "<table border=\"1\" class=\"dataframe\">\n",
       "  <thead>\n",
       "    <tr style=\"text-align: right;\">\n",
       "      <th></th>\n",
       "      <th>Dist_Taxi</th>\n",
       "      <th>Dist_Market</th>\n",
       "      <th>Dist_Hospital</th>\n",
       "      <th>Carpet</th>\n",
       "      <th>Builtup</th>\n",
       "      <th>Rainfall</th>\n",
       "      <th>House_Price</th>\n",
       "    </tr>\n",
       "  </thead>\n",
       "  <tbody>\n",
       "    <tr>\n",
       "      <th>Dist_Taxi</th>\n",
       "      <td>1.000000</td>\n",
       "      <td>0.449722</td>\n",
       "      <td>0.796846</td>\n",
       "      <td>0.011391</td>\n",
       "      <td>0.007170</td>\n",
       "      <td>0.020620</td>\n",
       "      <td>0.111612</td>\n",
       "    </tr>\n",
       "    <tr>\n",
       "      <th>Dist_Market</th>\n",
       "      <td>0.449722</td>\n",
       "      <td>1.000000</td>\n",
       "      <td>0.620130</td>\n",
       "      <td>-0.017377</td>\n",
       "      <td>-0.019288</td>\n",
       "      <td>0.069608</td>\n",
       "      <td>0.121574</td>\n",
       "    </tr>\n",
       "    <tr>\n",
       "      <th>Dist_Hospital</th>\n",
       "      <td>0.796846</td>\n",
       "      <td>0.620130</td>\n",
       "      <td>1.000000</td>\n",
       "      <td>0.011606</td>\n",
       "      <td>0.009124</td>\n",
       "      <td>0.050813</td>\n",
       "      <td>0.132047</td>\n",
       "    </tr>\n",
       "    <tr>\n",
       "      <th>Carpet</th>\n",
       "      <td>0.011391</td>\n",
       "      <td>-0.017377</td>\n",
       "      <td>0.011606</td>\n",
       "      <td>1.000000</td>\n",
       "      <td>0.998871</td>\n",
       "      <td>-0.046031</td>\n",
       "      <td>0.095636</td>\n",
       "    </tr>\n",
       "    <tr>\n",
       "      <th>Builtup</th>\n",
       "      <td>0.007170</td>\n",
       "      <td>-0.019288</td>\n",
       "      <td>0.009124</td>\n",
       "      <td>0.998871</td>\n",
       "      <td>1.000000</td>\n",
       "      <td>-0.042856</td>\n",
       "      <td>0.087600</td>\n",
       "    </tr>\n",
       "    <tr>\n",
       "      <th>Rainfall</th>\n",
       "      <td>0.020620</td>\n",
       "      <td>0.069608</td>\n",
       "      <td>0.050813</td>\n",
       "      <td>-0.046031</td>\n",
       "      <td>-0.042856</td>\n",
       "      <td>1.000000</td>\n",
       "      <td>0.007758</td>\n",
       "    </tr>\n",
       "    <tr>\n",
       "      <th>House_Price</th>\n",
       "      <td>0.111612</td>\n",
       "      <td>0.121574</td>\n",
       "      <td>0.132047</td>\n",
       "      <td>0.095636</td>\n",
       "      <td>0.087600</td>\n",
       "      <td>0.007758</td>\n",
       "      <td>1.000000</td>\n",
       "    </tr>\n",
       "  </tbody>\n",
       "</table>\n",
       "</div>"
      ],
      "text/plain": [
       "               Dist_Taxi  Dist_Market  Dist_Hospital    Carpet   Builtup  \\\n",
       "Dist_Taxi       1.000000     0.449722       0.796846  0.011391  0.007170   \n",
       "Dist_Market     0.449722     1.000000       0.620130 -0.017377 -0.019288   \n",
       "Dist_Hospital   0.796846     0.620130       1.000000  0.011606  0.009124   \n",
       "Carpet          0.011391    -0.017377       0.011606  1.000000  0.998871   \n",
       "Builtup         0.007170    -0.019288       0.009124  0.998871  1.000000   \n",
       "Rainfall        0.020620     0.069608       0.050813 -0.046031 -0.042856   \n",
       "House_Price     0.111612     0.121574       0.132047  0.095636  0.087600   \n",
       "\n",
       "               Rainfall  House_Price  \n",
       "Dist_Taxi      0.020620     0.111612  \n",
       "Dist_Market    0.069608     0.121574  \n",
       "Dist_Hospital  0.050813     0.132047  \n",
       "Carpet        -0.046031     0.095636  \n",
       "Builtup       -0.042856     0.087600  \n",
       "Rainfall       1.000000     0.007758  \n",
       "House_Price    0.007758     1.000000  "
      ]
     },
     "execution_count": 50,
     "metadata": {},
     "output_type": "execute_result"
    }
   ],
   "source": [
    "df.corr()"
   ]
  },
  {
   "cell_type": "markdown",
   "metadata": {},
   "source": [
    "Carpet and builup area has very high degree of corelation.  All 3 distance are showing great degree of coorelation"
   ]
  },
  {
   "cell_type": "markdown",
   "metadata": {},
   "source": [
    "<div style=\"background-color:##EDF9FF\">\n",
    " <ul><li><h3>Creating LR model by including all the variables</h3></li></ul>\n",
    "</div>"
   ]
  },
  {
   "cell_type": "code",
   "execution_count": 51,
   "metadata": {},
   "outputs": [
    {
     "data": {
      "text/plain": [
       "Index(['Dist_Taxi', 'Dist_Market', 'Dist_Hospital', 'Carpet', 'Builtup',\n",
       "       'Rainfall', 'House_Price', 'Parking_Covered', 'Parking_No Parking',\n",
       "       'Parking_Not Provided', 'Parking_Open', 'City_Category_CAT A',\n",
       "       'City_Category_CAT B', 'City_Category_CAT C'],\n",
       "      dtype='object')"
      ]
     },
     "execution_count": 51,
     "metadata": {},
     "output_type": "execute_result"
    }
   ],
   "source": [
    "getdummy.columns"
   ]
  },
  {
   "cell_type": "code",
   "execution_count": 52,
   "metadata": {},
   "outputs": [
    {
     "data": {
      "text/plain": [
       "Index(['Dist_Taxi', 'Dist_Market', 'Dist_Hospital', 'Carpet', 'Builtup',\n",
       "       'Rainfall', 'House_Price', 'Parking_Covered', 'Parking_No Parking',\n",
       "       'Parking_Not Provided', 'City_Category_CAT A', 'City_Category_CAT B'],\n",
       "      dtype='object')"
      ]
     },
     "execution_count": 52,
     "metadata": {},
     "output_type": "execute_result"
    }
   ],
   "source": [
    "## Basis on degree of freedom, doing feature selection to remove 1 level in both the categorical data\n",
    "df_dummy = getdummy.drop(['Parking_Open','City_Category_CAT C'], axis=1)\n",
    "df_dummy.columns"
   ]
  },
  {
   "cell_type": "code",
   "execution_count": 62,
   "metadata": {},
   "outputs": [],
   "source": [
    "## Using dummytized dataset\n",
    "x = df_dummy.drop('House_Price',axis=1)  ### Features\n",
    "y = df_dummy.House_Price  ### Labels"
   ]
  },
  {
   "cell_type": "code",
   "execution_count": 63,
   "metadata": {},
   "outputs": [],
   "source": [
    "from sklearn.model_selection import train_test_split\n",
    "x_train, x_test, y_train, y_test = train_test_split(x,y,test_size = 0.20,random_state=5) "
   ]
  },
  {
   "cell_type": "code",
   "execution_count": 64,
   "metadata": {},
   "outputs": [
    {
     "name": "stdout",
     "output_type": "stream",
     "text": [
      "(929, 12)\n",
      "(743, 11)\n",
      "(186, 11)\n"
     ]
    }
   ],
   "source": [
    "print(df_dummy.shape)\n",
    "print(x_train.shape)\n",
    "print(x_test.shape)"
   ]
  },
  {
   "cell_type": "code",
   "execution_count": 65,
   "metadata": {},
   "outputs": [
    {
     "data": {
      "text/html": [
       "<div>\n",
       "<style scoped>\n",
       "    .dataframe tbody tr th:only-of-type {\n",
       "        vertical-align: middle;\n",
       "    }\n",
       "\n",
       "    .dataframe tbody tr th {\n",
       "        vertical-align: top;\n",
       "    }\n",
       "\n",
       "    .dataframe thead th {\n",
       "        text-align: right;\n",
       "    }\n",
       "</style>\n",
       "<table border=\"1\" class=\"dataframe\">\n",
       "  <thead>\n",
       "    <tr style=\"text-align: right;\">\n",
       "      <th></th>\n",
       "      <th>Dist_Taxi</th>\n",
       "      <th>Dist_Market</th>\n",
       "      <th>Dist_Hospital</th>\n",
       "      <th>Carpet</th>\n",
       "      <th>Builtup</th>\n",
       "      <th>Rainfall</th>\n",
       "      <th>Parking_Covered</th>\n",
       "      <th>Parking_No Parking</th>\n",
       "      <th>Parking_Not Provided</th>\n",
       "      <th>City_Category_CAT A</th>\n",
       "      <th>City_Category_CAT B</th>\n",
       "    </tr>\n",
       "  </thead>\n",
       "  <tbody>\n",
       "    <tr>\n",
       "      <th>347</th>\n",
       "      <td>9375.0</td>\n",
       "      <td>9562.0</td>\n",
       "      <td>12062.0</td>\n",
       "      <td>1222.0</td>\n",
       "      <td>1473.000000</td>\n",
       "      <td>630</td>\n",
       "      <td>0</td>\n",
       "      <td>0</td>\n",
       "      <td>1</td>\n",
       "      <td>1</td>\n",
       "      <td>0</td>\n",
       "    </tr>\n",
       "    <tr>\n",
       "      <th>869</th>\n",
       "      <td>5536.0</td>\n",
       "      <td>12153.0</td>\n",
       "      <td>11937.0</td>\n",
       "      <td>1304.0</td>\n",
       "      <td>1782.297268</td>\n",
       "      <td>530</td>\n",
       "      <td>0</td>\n",
       "      <td>0</td>\n",
       "      <td>0</td>\n",
       "      <td>0</td>\n",
       "      <td>0</td>\n",
       "    </tr>\n",
       "    <tr>\n",
       "      <th>840</th>\n",
       "      <td>3286.0</td>\n",
       "      <td>10258.0</td>\n",
       "      <td>10623.0</td>\n",
       "      <td>1447.0</td>\n",
       "      <td>1730.000000</td>\n",
       "      <td>510</td>\n",
       "      <td>1</td>\n",
       "      <td>0</td>\n",
       "      <td>0</td>\n",
       "      <td>0</td>\n",
       "      <td>0</td>\n",
       "    </tr>\n",
       "    <tr>\n",
       "      <th>247</th>\n",
       "      <td>10631.0</td>\n",
       "      <td>8780.0</td>\n",
       "      <td>15335.0</td>\n",
       "      <td>1184.0</td>\n",
       "      <td>1434.000000</td>\n",
       "      <td>670</td>\n",
       "      <td>0</td>\n",
       "      <td>0</td>\n",
       "      <td>1</td>\n",
       "      <td>0</td>\n",
       "      <td>0</td>\n",
       "    </tr>\n",
       "    <tr>\n",
       "      <th>153</th>\n",
       "      <td>9334.0</td>\n",
       "      <td>12267.0</td>\n",
       "      <td>14658.0</td>\n",
       "      <td>1442.0</td>\n",
       "      <td>1750.000000</td>\n",
       "      <td>130</td>\n",
       "      <td>0</td>\n",
       "      <td>0</td>\n",
       "      <td>1</td>\n",
       "      <td>0</td>\n",
       "      <td>1</td>\n",
       "    </tr>\n",
       "  </tbody>\n",
       "</table>\n",
       "</div>"
      ],
      "text/plain": [
       "     Dist_Taxi  Dist_Market  Dist_Hospital  Carpet      Builtup  Rainfall  \\\n",
       "347     9375.0       9562.0        12062.0  1222.0  1473.000000       630   \n",
       "869     5536.0      12153.0        11937.0  1304.0  1782.297268       530   \n",
       "840     3286.0      10258.0        10623.0  1447.0  1730.000000       510   \n",
       "247    10631.0       8780.0        15335.0  1184.0  1434.000000       670   \n",
       "153     9334.0      12267.0        14658.0  1442.0  1750.000000       130   \n",
       "\n",
       "     Parking_Covered  Parking_No Parking  Parking_Not Provided  \\\n",
       "347                0                   0                     1   \n",
       "869                0                   0                     0   \n",
       "840                1                   0                     0   \n",
       "247                0                   0                     1   \n",
       "153                0                   0                     1   \n",
       "\n",
       "     City_Category_CAT A  City_Category_CAT B  \n",
       "347                    1                    0  \n",
       "869                    0                    0  \n",
       "840                    0                    0  \n",
       "247                    0                    0  \n",
       "153                    0                    1  "
      ]
     },
     "execution_count": 65,
     "metadata": {},
     "output_type": "execute_result"
    }
   ],
   "source": [
    "x_train.head()"
   ]
  },
  {
   "cell_type": "code",
   "execution_count": 66,
   "metadata": {},
   "outputs": [],
   "source": [
    "from sklearn.linear_model import LinearRegression"
   ]
  },
  {
   "cell_type": "code",
   "execution_count": 67,
   "metadata": {},
   "outputs": [],
   "source": [
    "model = LinearRegression().fit(x_train,y_train)"
   ]
  },
  {
   "cell_type": "code",
   "execution_count": 68,
   "metadata": {},
   "outputs": [],
   "source": [
    "pred = model.predict(x_test)"
   ]
  },
  {
   "cell_type": "code",
   "execution_count": 69,
   "metadata": {},
   "outputs": [
    {
     "data": {
      "text/plain": [
       "0.3636298782810299"
      ]
     },
     "execution_count": 69,
     "metadata": {},
     "output_type": "execute_result"
    }
   ],
   "source": [
    "model.score(x_test,y_test) ## Co-effecient of determination (R - Square)"
   ]
  },
  {
   "cell_type": "code",
   "execution_count": 70,
   "metadata": {},
   "outputs": [
    {
     "data": {
      "text/plain": [
       "0.32339958322983064"
      ]
     },
     "execution_count": 70,
     "metadata": {},
     "output_type": "execute_result"
    }
   ],
   "source": [
    "# Adjusted R square\n",
    "1 - (1-model.score(x_test, y_test))*(len(y_test)-1)/(len(y_test)-x_test.shape[1]-1)"
   ]
  },
  {
   "cell_type": "markdown",
   "metadata": {},
   "source": [
    "<div style=\"background-color:##EDF9FF\">\n",
    " <ul><li><h3>Validating the assumptions of Linear Regression</h3></li></ul>\n",
    "</div>"
   ]
  },
  {
   "cell_type": "code",
   "execution_count": 71,
   "metadata": {},
   "outputs": [
    {
     "data": {
      "text/plain": [
       "Text(0, 0.5, 'residuals')"
      ]
     },
     "execution_count": 71,
     "metadata": {},
     "output_type": "execute_result"
    },
    {
     "data": {
      "image/png": "[encoded data removed]",
      "text/plain": [
       "<Figure size 864x360 with 1 Axes>"
      ]
     },
     "metadata": {
      "needs_background": "light"
     },
     "output_type": "display_data"
    }
   ],
   "source": [
    "fig, axes = plt.subplots(1, 1, sharex=False, sharey=False)\n",
    "fig.suptitle('[Residual Plots]')\n",
    "fig.set_size_inches(12,5)\n",
    "axes.plot(model.predict(x_test), y_test-model.predict(x_test), 'bo')\n",
    "axes.axhline(y=0, color='k')\n",
    "axes.grid()\n",
    "axes.set_title('Linear')\n",
    "axes.set_xlabel('predicted values')\n",
    "axes.set_ylabel('residuals')"
   ]
  },
  {
   "cell_type": "markdown",
   "metadata": {},
   "source": [
    "<div style=\"background-color:##FBFFE3\">\n",
    "   <div style=\"float:left\">\n",
    "       <img src='https://drive.google.com/uc?export=download&id=1No0HgbMyg7V7pVTF0A7LEIcruGkeH-BX', width=20,height=20,>\n",
    "   </div>\n",
    "   <span style=\"padding:20px;\">Outlier is creating a problem and hence we should we first remove the outlier and the proceed with the model building</span>\n",
    "</div>"
   ]
  },
  {
   "cell_type": "code",
   "execution_count": 72,
   "metadata": {},
   "outputs": [
    {
     "data": {
      "text/plain": [
       "Text(0.5, 1.0, 'Linear')"
      ]
     },
     "execution_count": 72,
     "metadata": {},
     "output_type": "execute_result"
    },
    {
     "data": {
      "image/png": "[encoded data removed]",
      "text/plain": [
       "<Figure size 432x288 with 1 Axes>"
      ]
     },
     "metadata": {
      "needs_background": "light"
     },
     "output_type": "display_data"
    }
   ],
   "source": [
    "import seaborn as sns\n",
    "\n",
    "residuals_linear = y_test - model.predict(x_test)\n",
    "sns.distplot(residuals_linear)\n",
    "plt.title('Linear')"
   ]
  },
  {
   "cell_type": "code",
   "execution_count": 73,
   "metadata": {},
   "outputs": [],
   "source": [
    "## Removing outlier\n",
    "hp = sorted(df_dummy['House_Price'])\n",
    "q1, q3= np.percentile(hp,[25,75])\n",
    "lower_bound = q1 -(1.5 * (q3-q1)) \n",
    "upper_bound = q3 + (1.5 * (q3-q1))\n",
    "below = df_dummy['House_Price'] > lower_bound\n",
    "above = df_dummy['House_Price'] < upper_bound\n",
    "df_dummy = df_dummy[below & above]"
   ]
  },
  {
   "cell_type": "code",
   "execution_count": 74,
   "metadata": {},
   "outputs": [
    {
     "data": {
      "text/plain": [
       "(929, 11)"
      ]
     },
     "execution_count": 74,
     "metadata": {},
     "output_type": "execute_result"
    }
   ],
   "source": [
    "x.shape"
   ]
  },
  {
   "cell_type": "code",
   "execution_count": 75,
   "metadata": {},
   "outputs": [],
   "source": [
    "x = df_dummy.drop('House_Price',axis=1)  ### Features\n",
    "y = df_dummy.House_Price  ### Labels\n",
    "x_train, x_test, y_train, y_test = train_test_split(x,y,test_size = 0.20,random_state=5) "
   ]
  },
  {
   "cell_type": "code",
   "execution_count": 76,
   "metadata": {},
   "outputs": [],
   "source": [
    "model = LinearRegression().fit(x_train,y_train)"
   ]
  },
  {
   "cell_type": "code",
   "execution_count": 77,
   "metadata": {},
   "outputs": [
    {
     "name": "stdout",
     "output_type": "stream",
     "text": [
      "0.3636298782810299\n",
      "0.32339958322983064\n"
     ]
    }
   ],
   "source": [
    "print (model.score(x_test,y_test)) ## Co-effecient of determination (R - Square)\n",
    "# Adjusted R square\n",
    "print(1 - (1-model.score(x_test, y_test))*(len(y_test)-1)/(len(y_test)-x_test.shape[1]-1))"
   ]
  },
  {
   "cell_type": "code",
   "execution_count": 78,
   "metadata": {},
   "outputs": [
    {
     "data": {
      "text/plain": [
       "<matplotlib.axes._subplots.AxesSubplot at 0x251a9e8a390>"
      ]
     },
     "execution_count": 78,
     "metadata": {},
     "output_type": "execute_result"
    },
    {
     "data": {
      "image/png": "[encoded data removed]",
      "text/plain": [
       "<Figure size 432x288 with 1 Axes>"
      ]
     },
     "metadata": {
      "needs_background": "light"
     },
     "output_type": "display_data"
    }
   ],
   "source": [
    "predictors = x_train.columns\n",
    "\n",
    "coef = pd.Series(model.coef_,predictors).sort_values()\n",
    "\n",
    "coef.plot(kind='bar', title='Model Coefficients')"
   ]
  },
  {
   "cell_type": "code",
   "execution_count": 79,
   "metadata": {},
   "outputs": [
    {
     "data": {
      "text/plain": [
       "Text(0, 0.5, 'residuals')"
      ]
     },
     "execution_count": 79,
     "metadata": {},
     "output_type": "execute_result"
    },
    {
     "data": {
      "image/png": "[encoded data removed]",
      "text/plain": [
       "<Figure size 864x360 with 1 Axes>"
      ]
     },
     "metadata": {
      "needs_background": "light"
     },
     "output_type": "display_data"
    }
   ],
   "source": [
    "fig, axes = plt.subplots(1, 1, sharex=False, sharey=False)\n",
    "fig.suptitle('[Residual Plots]')\n",
    "fig.set_size_inches(12,5)\n",
    "axes.plot(model.predict(x_test), y_test-model.predict(x_test), 'bo')\n",
    "axes.axhline(y=0, color='k')\n",
    "axes.grid()\n",
    "axes.set_title('Linear')\n",
    "axes.set_xlabel('predicted values')\n",
    "axes.set_ylabel('residuals')"
   ]
  },
  {
   "cell_type": "code",
   "execution_count": 80,
   "metadata": {},
   "outputs": [
    {
     "data": {
      "text/plain": [
       "Text(0.5, 1.0, 'Linear')"
      ]
     },
     "execution_count": 80,
     "metadata": {},
     "output_type": "execute_result"
    },
    {
     "data": {
      "image/png": "[encoded data removed]",
      "text/plain": [
       "<Figure size 432x288 with 1 Axes>"
      ]
     },
     "metadata": {
      "needs_background": "light"
     },
     "output_type": "display_data"
    }
   ],
   "source": [
    "residuals_linear = y_test - model.predict(x_test)\n",
    "sns.distplot(residuals_linear)\n",
    "plt.title('Linear')"
   ]
  },
  {
   "cell_type": "markdown",
   "metadata": {},
   "source": [
    "<div style=\"background-color:##FBFFE3\">\n",
    "   <div style=\"float:left\">\n",
    "       <img src='https://drive.google.com/uc?export=download&id=1No0HgbMyg7V7pVTF0A7LEIcruGkeH-BX', width=20,height=20,>\n",
    "   </div>\n",
    "   <span style=\"padding:20px;\">Moderate multicollinearity may not be problematic. However, severe multicollinearity is a problem because it can increase the variance of the coefficient estimates and make the estimates very sensitive to minor changes in the model. The result is that the coefficient estimates are unstable and difficult to interpret.We have seen previously that there is a hig degree of multilolinearlity is there in a model. Lets first remove them before fitting the model</span>\n",
    "</div>"
   ]
  },
  {
   "cell_type": "code",
   "execution_count": 81,
   "metadata": {},
   "outputs": [],
   "source": [
    "from statsmodels.stats.outliers_influence import variance_inflation_factor"
   ]
  },
  {
   "cell_type": "code",
   "execution_count": 82,
   "metadata": {},
   "outputs": [],
   "source": [
    "vif= pd.DataFrame()\n",
    "vif['VIF'] = [variance_inflation_factor(x.values, i) for i in range(x.shape[1])]\n",
    "vif[\"features\"] = x.columns"
   ]
  },
  {
   "cell_type": "code",
   "execution_count": 83,
   "metadata": {},
   "outputs": [
    {
     "data": {
      "text/html": [
       "<div>\n",
       "<style scoped>\n",
       "    .dataframe tbody tr th:only-of-type {\n",
       "        vertical-align: middle;\n",
       "    }\n",
       "\n",
       "    .dataframe tbody tr th {\n",
       "        vertical-align: top;\n",
       "    }\n",
       "\n",
       "    .dataframe thead th {\n",
       "        text-align: right;\n",
       "    }\n",
       "</style>\n",
       "<table border=\"1\" class=\"dataframe\">\n",
       "  <thead>\n",
       "    <tr style=\"text-align: right;\">\n",
       "      <th></th>\n",
       "      <th>VIF</th>\n",
       "      <th>features</th>\n",
       "    </tr>\n",
       "  </thead>\n",
       "  <tbody>\n",
       "    <tr>\n",
       "      <th>0</th>\n",
       "      <td>31.417810</td>\n",
       "      <td>Dist_Taxi</td>\n",
       "    </tr>\n",
       "    <tr>\n",
       "      <th>1</th>\n",
       "      <td>32.301488</td>\n",
       "      <td>Dist_Market</td>\n",
       "    </tr>\n",
       "    <tr>\n",
       "      <th>2</th>\n",
       "      <td>86.191156</td>\n",
       "      <td>Dist_Hospital</td>\n",
       "    </tr>\n",
       "    <tr>\n",
       "      <th>3</th>\n",
       "      <td>1355.878424</td>\n",
       "      <td>Carpet</td>\n",
       "    </tr>\n",
       "    <tr>\n",
       "      <th>4</th>\n",
       "      <td>1364.992406</td>\n",
       "      <td>Builtup</td>\n",
       "    </tr>\n",
       "    <tr>\n",
       "      <th>5</th>\n",
       "      <td>8.889832</td>\n",
       "      <td>Rainfall</td>\n",
       "    </tr>\n",
       "    <tr>\n",
       "      <th>6</th>\n",
       "      <td>1.515704</td>\n",
       "      <td>Parking_Covered</td>\n",
       "    </tr>\n",
       "    <tr>\n",
       "      <th>7</th>\n",
       "      <td>1.401130</td>\n",
       "      <td>Parking_No Parking</td>\n",
       "    </tr>\n",
       "    <tr>\n",
       "      <th>8</th>\n",
       "      <td>1.598036</td>\n",
       "      <td>Parking_Not Provided</td>\n",
       "    </tr>\n",
       "    <tr>\n",
       "      <th>9</th>\n",
       "      <td>2.331362</td>\n",
       "      <td>City_Category_CAT A</td>\n",
       "    </tr>\n",
       "    <tr>\n",
       "      <th>10</th>\n",
       "      <td>2.462982</td>\n",
       "      <td>City_Category_CAT B</td>\n",
       "    </tr>\n",
       "  </tbody>\n",
       "</table>\n",
       "</div>"
      ],
      "text/plain": [
       "            VIF              features\n",
       "0     31.417810             Dist_Taxi\n",
       "1     32.301488           Dist_Market\n",
       "2     86.191156         Dist_Hospital\n",
       "3   1355.878424                Carpet\n",
       "4   1364.992406               Builtup\n",
       "5      8.889832              Rainfall\n",
       "6      1.515704       Parking_Covered\n",
       "7      1.401130    Parking_No Parking\n",
       "8      1.598036  Parking_Not Provided\n",
       "9      2.331362   City_Category_CAT A\n",
       "10     2.462982   City_Category_CAT B"
      ]
     },
     "execution_count": 83,
     "metadata": {},
     "output_type": "execute_result"
    }
   ],
   "source": [
    "vif  ### Nan value of VIF higher than 10 creates a problem in my model."
   ]
  },
  {
   "cell_type": "markdown",
   "metadata": {},
   "source": [
    "<div style=\"background-color:##FBFFE3\">\n",
    "   <div style=\"float:left\">\n",
    "       <img src='https://drive.google.com/uc?export=download&id=1No0HgbMyg7V7pVTF0A7LEIcruGkeH-BX', width=20,height=20,>\n",
    "   </div>\n",
    "   <span style=\"padding:20px;\">Basis the result of VIF, we should remove Carpet and Dist_hospital, Dist_market and check again the value of VIF</span>\n",
    "</div>"
   ]
  },
  {
   "cell_type": "code",
   "execution_count": 84,
   "metadata": {},
   "outputs": [
    {
     "data": {
      "text/plain": [
       "(929, 8)"
      ]
     },
     "execution_count": 84,
     "metadata": {},
     "output_type": "execute_result"
    }
   ],
   "source": [
    "x_new = x.drop(['Dist_Hospital','Builtup','Dist_Market'], axis=1)\n",
    "x_new.shape"
   ]
  },
  {
   "cell_type": "code",
   "execution_count": 85,
   "metadata": {},
   "outputs": [
    {
     "data": {
      "text/html": [
       "<div>\n",
       "<style scoped>\n",
       "    .dataframe tbody tr th:only-of-type {\n",
       "        vertical-align: middle;\n",
       "    }\n",
       "\n",
       "    .dataframe tbody tr th {\n",
       "        vertical-align: top;\n",
       "    }\n",
       "\n",
       "    .dataframe thead th {\n",
       "        text-align: right;\n",
       "    }\n",
       "</style>\n",
       "<table border=\"1\" class=\"dataframe\">\n",
       "  <thead>\n",
       "    <tr style=\"text-align: right;\">\n",
       "      <th></th>\n",
       "      <th>VIF</th>\n",
       "      <th>features</th>\n",
       "    </tr>\n",
       "  </thead>\n",
       "  <tbody>\n",
       "    <tr>\n",
       "      <th>0</th>\n",
       "      <td>10.005220</td>\n",
       "      <td>Dist_Taxi</td>\n",
       "    </tr>\n",
       "    <tr>\n",
       "      <th>1</th>\n",
       "      <td>15.038030</td>\n",
       "      <td>Carpet</td>\n",
       "    </tr>\n",
       "    <tr>\n",
       "      <th>2</th>\n",
       "      <td>8.222223</td>\n",
       "      <td>Rainfall</td>\n",
       "    </tr>\n",
       "    <tr>\n",
       "      <th>3</th>\n",
       "      <td>1.509911</td>\n",
       "      <td>Parking_Covered</td>\n",
       "    </tr>\n",
       "    <tr>\n",
       "      <th>4</th>\n",
       "      <td>1.390633</td>\n",
       "      <td>Parking_No Parking</td>\n",
       "    </tr>\n",
       "    <tr>\n",
       "      <th>5</th>\n",
       "      <td>1.589533</td>\n",
       "      <td>Parking_Not Provided</td>\n",
       "    </tr>\n",
       "    <tr>\n",
       "      <th>6</th>\n",
       "      <td>2.289244</td>\n",
       "      <td>City_Category_CAT A</td>\n",
       "    </tr>\n",
       "    <tr>\n",
       "      <th>7</th>\n",
       "      <td>2.450118</td>\n",
       "      <td>City_Category_CAT B</td>\n",
       "    </tr>\n",
       "  </tbody>\n",
       "</table>\n",
       "</div>"
      ],
      "text/plain": [
       "         VIF              features\n",
       "0  10.005220             Dist_Taxi\n",
       "1  15.038030                Carpet\n",
       "2   8.222223              Rainfall\n",
       "3   1.509911       Parking_Covered\n",
       "4   1.390633    Parking_No Parking\n",
       "5   1.589533  Parking_Not Provided\n",
       "6   2.289244   City_Category_CAT A\n",
       "7   2.450118   City_Category_CAT B"
      ]
     },
     "execution_count": 85,
     "metadata": {},
     "output_type": "execute_result"
    }
   ],
   "source": [
    "vif= pd.DataFrame()\n",
    "vif['VIF'] = [variance_inflation_factor(x_new.values, i) for i in range(x_new.shape[1])]\n",
    "vif[\"features\"] = x_new.columns\n",
    "vif"
   ]
  },
  {
   "cell_type": "code",
   "execution_count": 86,
   "metadata": {},
   "outputs": [],
   "source": [
    "## Using dummytized dataset\n",
    "x_train, x_test, y_train, y_test = train_test_split(x_new,y,test_size = 0.20,random_state=5) "
   ]
  },
  {
   "cell_type": "code",
   "execution_count": 97,
   "metadata": {},
   "outputs": [],
   "source": [
    "model1 = LinearRegression().fit(x_train,y_train)"
   ]
  },
  {
   "cell_type": "code",
   "execution_count": 98,
   "metadata": {},
   "outputs": [
    {
     "data": {
      "text/plain": [
       "0.38039864502399523"
      ]
     },
     "execution_count": 98,
     "metadata": {},
     "output_type": "execute_result"
    }
   ],
   "source": [
    "model1.score(x_test,y_test)"
   ]
  },
  {
   "cell_type": "markdown",
   "metadata": {},
   "source": [
    "<div style=\"background-color:##FBFFE3\">\n",
    "   <div style=\"float:left\">\n",
    "       <img src='https://drive.google.com/uc?export=download&id=1No0HgbMyg7V7pVTF0A7LEIcruGkeH-BX', width=20,height=20,>\n",
    "   </div>\n",
    "   <span style=\"padding:20px;\">The model looks fine even after removal of few high multicolinear variable</span>\n",
    "</div>"
   ]
  },
  {
   "cell_type": "markdown",
   "metadata": {},
   "source": [
    "<div style=\"background-color:##EDF9FF\">\n",
    " <ul><li><h3>Regularization Techniques</h3></li></ul>\n",
    "</div>"
   ]
  },
  {
   "cell_type": "code",
   "execution_count": 99,
   "metadata": {},
   "outputs": [
    {
     "data": {
      "text/html": [
       "<div>\n",
       "<style scoped>\n",
       "    .dataframe tbody tr th:only-of-type {\n",
       "        vertical-align: middle;\n",
       "    }\n",
       "\n",
       "    .dataframe tbody tr th {\n",
       "        vertical-align: top;\n",
       "    }\n",
       "\n",
       "    .dataframe thead th {\n",
       "        text-align: right;\n",
       "    }\n",
       "</style>\n",
       "<table border=\"1\" class=\"dataframe\">\n",
       "  <thead>\n",
       "    <tr style=\"text-align: right;\">\n",
       "      <th></th>\n",
       "      <th>Dist_Taxi</th>\n",
       "      <th>Dist_Market</th>\n",
       "      <th>Dist_Hospital</th>\n",
       "      <th>Carpet</th>\n",
       "      <th>Builtup</th>\n",
       "      <th>Rainfall</th>\n",
       "      <th>House_Price</th>\n",
       "      <th>Parking_Covered</th>\n",
       "      <th>Parking_No Parking</th>\n",
       "      <th>Parking_Not Provided</th>\n",
       "      <th>City_Category_CAT A</th>\n",
       "      <th>City_Category_CAT B</th>\n",
       "    </tr>\n",
       "  </thead>\n",
       "  <tbody>\n",
       "    <tr>\n",
       "      <th>0</th>\n",
       "      <td>9796.0</td>\n",
       "      <td>5250.0</td>\n",
       "      <td>10703.0</td>\n",
       "      <td>1659.0</td>\n",
       "      <td>1961.0</td>\n",
       "      <td>530</td>\n",
       "      <td>6649000</td>\n",
       "      <td>0</td>\n",
       "      <td>0</td>\n",
       "      <td>0</td>\n",
       "      <td>0</td>\n",
       "      <td>1</td>\n",
       "    </tr>\n",
       "    <tr>\n",
       "      <th>1</th>\n",
       "      <td>8294.0</td>\n",
       "      <td>8186.0</td>\n",
       "      <td>12694.0</td>\n",
       "      <td>1461.0</td>\n",
       "      <td>1752.0</td>\n",
       "      <td>210</td>\n",
       "      <td>3982000</td>\n",
       "      <td>0</td>\n",
       "      <td>0</td>\n",
       "      <td>1</td>\n",
       "      <td>0</td>\n",
       "      <td>1</td>\n",
       "    </tr>\n",
       "    <tr>\n",
       "      <th>2</th>\n",
       "      <td>11001.0</td>\n",
       "      <td>14399.0</td>\n",
       "      <td>16991.0</td>\n",
       "      <td>1340.0</td>\n",
       "      <td>1609.0</td>\n",
       "      <td>720</td>\n",
       "      <td>5401000</td>\n",
       "      <td>0</td>\n",
       "      <td>0</td>\n",
       "      <td>1</td>\n",
       "      <td>1</td>\n",
       "      <td>0</td>\n",
       "    </tr>\n",
       "    <tr>\n",
       "      <th>3</th>\n",
       "      <td>8301.0</td>\n",
       "      <td>11188.0</td>\n",
       "      <td>12289.0</td>\n",
       "      <td>1451.0</td>\n",
       "      <td>1748.0</td>\n",
       "      <td>620</td>\n",
       "      <td>5373000</td>\n",
       "      <td>1</td>\n",
       "      <td>0</td>\n",
       "      <td>0</td>\n",
       "      <td>0</td>\n",
       "      <td>1</td>\n",
       "    </tr>\n",
       "    <tr>\n",
       "      <th>4</th>\n",
       "      <td>10510.0</td>\n",
       "      <td>12629.0</td>\n",
       "      <td>13921.0</td>\n",
       "      <td>1770.0</td>\n",
       "      <td>2111.0</td>\n",
       "      <td>450</td>\n",
       "      <td>4662000</td>\n",
       "      <td>0</td>\n",
       "      <td>0</td>\n",
       "      <td>1</td>\n",
       "      <td>0</td>\n",
       "      <td>1</td>\n",
       "    </tr>\n",
       "  </tbody>\n",
       "</table>\n",
       "</div>"
      ],
      "text/plain": [
       "   Dist_Taxi  Dist_Market  Dist_Hospital  Carpet  Builtup  Rainfall  \\\n",
       "0     9796.0       5250.0        10703.0  1659.0   1961.0       530   \n",
       "1     8294.0       8186.0        12694.0  1461.0   1752.0       210   \n",
       "2    11001.0      14399.0        16991.0  1340.0   1609.0       720   \n",
       "3     8301.0      11188.0        12289.0  1451.0   1748.0       620   \n",
       "4    10510.0      12629.0        13921.0  1770.0   2111.0       450   \n",
       "\n",
       "   House_Price  Parking_Covered  Parking_No Parking  Parking_Not Provided  \\\n",
       "0      6649000                0                   0                     0   \n",
       "1      3982000                0                   0                     1   \n",
       "2      5401000                0                   0                     1   \n",
       "3      5373000                1                   0                     0   \n",
       "4      4662000                0                   0                     1   \n",
       "\n",
       "   City_Category_CAT A  City_Category_CAT B  \n",
       "0                    0                    1  \n",
       "1                    0                    1  \n",
       "2                    1                    0  \n",
       "3                    0                    1  \n",
       "4                    0                    1  "
      ]
     },
     "execution_count": 99,
     "metadata": {},
     "output_type": "execute_result"
    }
   ],
   "source": [
    "df_dummy.head() ## let us use the entire data set to build the model"
   ]
  },
  {
   "cell_type": "markdown",
   "metadata": {},
   "source": [
    "<div style=\"background-color:##EDF9FF\">\n",
    " <ul><li><h3>Ridge Regression</h3></li></ul>\n",
    "</div>"
   ]
  },
  {
   "cell_type": "code",
   "execution_count": 100,
   "metadata": {},
   "outputs": [],
   "source": [
    "from sklearn.linear_model import Ridge\n",
    "from sklearn.linear_model import Lasso"
   ]
  },
  {
   "cell_type": "code",
   "execution_count": 101,
   "metadata": {},
   "outputs": [],
   "source": [
    "x = df_dummy.drop('House_Price',axis=1)  ### Features\n",
    "y = df_dummy.House_Price  ### Labels\n",
    "x_train, x_test, y_train, y_test = train_test_split(x,y,test_size = 0.20,random_state=5)"
   ]
  },
  {
   "cell_type": "code",
   "execution_count": 102,
   "metadata": {},
   "outputs": [],
   "source": [
    "ridgeReg = Ridge(alpha=0.0005, normalize=True)\n",
    "\n",
    "ridgeReg.fit(x_train,y_train)\n",
    "pred = ridgeReg.predict(x_test)\n",
    "score = ridgeReg.score(x_test,y_test)"
   ]
  },
  {
   "cell_type": "code",
   "execution_count": 103,
   "metadata": {},
   "outputs": [
    {
     "data": {
      "text/plain": [
       "0.364854290822078"
      ]
     },
     "execution_count": 103,
     "metadata": {},
     "output_type": "execute_result"
    }
   ],
   "source": [
    "score"
   ]
  },
  {
   "cell_type": "code",
   "execution_count": 104,
   "metadata": {},
   "outputs": [
    {
     "data": {
      "text/plain": [
       "array([ 3.02314414e+01,  1.94994651e+01,  5.17002174e+01,  2.51230648e+03,\n",
       "       -1.47405608e+03, -1.97860584e+01,  2.62881567e+05, -4.10933459e+05,\n",
       "       -1.81665241e+05,  2.97398805e+06,  1.08581054e+06])"
      ]
     },
     "execution_count": 104,
     "metadata": {},
     "output_type": "execute_result"
    }
   ],
   "source": [
    "ridgeReg.coef_"
   ]
  },
  {
   "cell_type": "code",
   "execution_count": 105,
   "metadata": {},
   "outputs": [
    {
     "data": {
      "text/plain": [
       "<matplotlib.axes._subplots.AxesSubplot at 0x1a719e783c8>"
      ]
     },
     "execution_count": 105,
     "metadata": {},
     "output_type": "execute_result"
    },
    {
     "data": {
      "image/png": "[encoded data removed]",
      "text/plain": [
       "<Figure size 432x288 with 1 Axes>"
      ]
     },
     "metadata": {
      "needs_background": "light"
     },
     "output_type": "display_data"
    }
   ],
   "source": [
    "predictors = x_train.columns\n",
    "coef = pd.Series(ridgeReg.coef_,predictors).sort_values()\n",
    "coef.plot(kind='bar', title='Model Coefficients')"
   ]
  },
  {
   "cell_type": "markdown",
   "metadata": {},
   "source": [
    "<div style=\"background-color:##FBFFE3\">\n",
    "   <div style=\"float:left\">\n",
    "       <img src='https://drive.google.com/uc?export=download&id=1No0HgbMyg7V7pVTF0A7LEIcruGkeH-BX', width=20,height=20,>\n",
    "   </div>\n",
    "   <span style=\"padding:20px;\">Alpha is a hyperparameter in Ridge and can be used to control the penalty applied</span>\n",
    "</div>"
   ]
  },
  {
   "cell_type": "markdown",
   "metadata": {},
   "source": [
    "<div style=\"background-color:##EDF9FF\">\n",
    " <ul><li><h3>Lasso Regression</h3></li></ul>\n",
    "</div>"
   ]
  },
  {
   "cell_type": "code",
   "execution_count": 106,
   "metadata": {},
   "outputs": [
    {
     "name": "stderr",
     "output_type": "stream",
     "text": [
      "C:\\Users\\u286070\\New folder\\lib\\site-packages\\sklearn\\linear_model\\coordinate_descent.py:475: ConvergenceWarning: Objective did not converge. You might want to increase the number of iterations. Duality gap: 238527864969749.94, tolerance: 223973148677.2544\n",
      "  positive)\n"
     ]
    },
    {
     "data": {
      "text/plain": [
       "0.3636299022208773"
      ]
     },
     "execution_count": 106,
     "metadata": {},
     "output_type": "execute_result"
    }
   ],
   "source": [
    "lassoReg = Lasso(alpha=0.03)\n",
    "lassoReg.fit(x_train,y_train)\n",
    "pred = lassoReg.predict(x_test)\n",
    "lassoReg.score(x_test,y_test)"
   ]
  },
  {
   "cell_type": "code",
   "execution_count": 107,
   "metadata": {},
   "outputs": [
    {
     "data": {
      "text/plain": [
       "array([ 3.01006152e+01,  1.95536261e+01,  5.17624789e+01,  2.63510746e+03,\n",
       "       -1.57682795e+03, -1.91327735e+01,  2.62684627e+05, -4.11059104e+05,\n",
       "       -1.81758863e+05,  2.97640035e+06,  1.08765256e+06])"
      ]
     },
     "execution_count": 107,
     "metadata": {},
     "output_type": "execute_result"
    }
   ],
   "source": [
    "lassoReg.coef_"
   ]
  },
  {
   "cell_type": "code",
   "execution_count": 108,
   "metadata": {},
   "outputs": [
    {
     "data": {
      "text/plain": [
       "<matplotlib.axes._subplots.AxesSubplot at 0x1a719fe7630>"
      ]
     },
     "execution_count": 108,
     "metadata": {},
     "output_type": "execute_result"
    },
    {
     "data": {
      "image/png": "[encoded data removed]",
      "text/plain": [
       "<Figure size 432x288 with 1 Axes>"
      ]
     },
     "metadata": {
      "needs_background": "light"
     },
     "output_type": "display_data"
    }
   ],
   "source": [
    "predictors = x_train.columns\n",
    "coef = pd.Series(lassoReg.coef_,predictors).sort_values()\n",
    "coef.plot(kind='bar', title='Model Coefficients')"
   ]
  },
  {
   "cell_type": "markdown",
   "metadata": {},
   "source": [
    "<b> conclusion </b> : we have cleaned the data using different pre-processing techniques and built a linear regression model by validating its assumptions "
   ]
  },
  {
   "cell_type": "code",
   "execution_count": null,
   "metadata": {},
   "outputs": [],
   "source": []
  }
 ],
 "metadata": {
  "kernelspec": {
   "display_name": "Python 3",
   "language": "python",
   "name": "python3"
  },
  "language_info": {
   "codemirror_mode": {
    "name": "ipython",
    "version": 3
   },
   "file_extension": ".py",
   "mimetype": "text/x-python",
   "name": "python",
   "nbconvert_exporter": "python",
   "pygments_lexer": "ipython3",
   "version": "3.8.8"
  }
 },
 "nbformat": 4,
 "nbformat_minor": 2
}
